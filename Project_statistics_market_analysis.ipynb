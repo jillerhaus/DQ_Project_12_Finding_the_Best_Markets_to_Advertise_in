{
 "cells": [
  {
   "cell_type": "markdown",
   "metadata": {
    "collapsed": true
   },
   "source": [
    "# Finding Markets to Advertise in\n",
    "\n",
    "The goal of this project will be to make recommendations on two primary markets to advertise on effectively for a new paid online learning platform. The focus from a learning perspective will be on the statistical analysis of the data.\n",
    "\n",
    "To be able to find the best markets, data from a survey of new users of [FreeCodeCamp](https://www.freecodecamp.org/) will be analyzed. FreeCodeCamp is a website where people can learn to code for free."
   ]
  },
  {
   "cell_type": "markdown",
   "metadata": {},
   "source": [
    "## Setup"
   ]
  },
  {
   "cell_type": "code",
   "execution_count": 8,
   "metadata": {},
   "outputs": [],
   "source": [
    "# Imports\n",
    "import numpy as np\n",
    "import re\n",
    "import pandas as pd\n",
    "import matplotlib.pyplot as plt\n",
    "import seaborn as sns\n",
    "%matplotlib inline"
   ]
  },
  {
   "cell_type": "code",
   "execution_count": 9,
   "metadata": {},
   "outputs": [],
   "source": [
    "# Load the data\n",
    "survey = pd.read_csv('2017-fCC-New-Coders-Survey-Data.csv', low_memory = 0)"
   ]
  },
  {
   "cell_type": "markdown",
   "metadata": {},
   "source": [
    "## Analysis"
   ]
  },
  {
   "cell_type": "code",
   "execution_count": 10,
   "metadata": {},
   "outputs": [
    {
     "name": "stdout",
     "output_type": "stream",
     "text": [
      "(18175, 136)\n",
      "    Age  AttendedBootcamp  BootcampFinish  BootcampLoanYesNo BootcampName  \\\n",
      "0  27.0               0.0             NaN                NaN          NaN   \n",
      "1  34.0               0.0             NaN                NaN          NaN   \n",
      "2  21.0               0.0             NaN                NaN          NaN   \n",
      "3  26.0               0.0             NaN                NaN          NaN   \n",
      "4  20.0               0.0             NaN                NaN          NaN   \n",
      "\n",
      "   BootcampRecommend  ChildrenNumber                 CityPopulation  \\\n",
      "0                NaN             NaN            more than 1 million   \n",
      "1                NaN             NaN              less than 100,000   \n",
      "2                NaN             NaN            more than 1 million   \n",
      "3                NaN             NaN  between 100,000 and 1 million   \n",
      "4                NaN             NaN  between 100,000 and 1 million   \n",
      "\n",
      "   CodeEventConferences  CodeEventDjangoGirls  CodeEventFCC  CodeEventGameJam  \\\n",
      "0                   NaN                   NaN           NaN               NaN   \n",
      "1                   NaN                   NaN           NaN               NaN   \n",
      "2                   NaN                   NaN           NaN               NaN   \n",
      "3                   NaN                   NaN           NaN               NaN   \n",
      "4                   NaN                   NaN           NaN               NaN   \n",
      "\n",
      "   CodeEventGirlDev  CodeEventHackathons  CodeEventMeetup  \\\n",
      "0               NaN                  NaN              NaN   \n",
      "1               NaN                  NaN              NaN   \n",
      "2               NaN                  1.0              NaN   \n",
      "3               NaN                  NaN              NaN   \n",
      "4               NaN                  NaN              NaN   \n",
      "\n",
      "   CodeEventNodeSchool  CodeEventNone CodeEventOther  CodeEventRailsBridge  \\\n",
      "0                  NaN            NaN            NaN                   NaN   \n",
      "1                  NaN            NaN            NaN                   NaN   \n",
      "2                  1.0            NaN            NaN                   NaN   \n",
      "3                  NaN            NaN            NaN                   NaN   \n",
      "4                  NaN            NaN            NaN                   NaN   \n",
      "\n",
      "   CodeEventRailsGirls  CodeEventStartUpWknd  CodeEventWkdBootcamps  \\\n",
      "0                  NaN                   NaN                    NaN   \n",
      "1                  NaN                   NaN                    NaN   \n",
      "2                  NaN                   NaN                    NaN   \n",
      "3                  NaN                   NaN                    NaN   \n",
      "4                  NaN                   NaN                    NaN   \n",
      "\n",
      "   CodeEventWomenCode  CodeEventWorkshops       CommuteTime  \\\n",
      "0                 NaN                 NaN  15 to 29 minutes   \n",
      "1                 NaN                 NaN               NaN   \n",
      "2                 NaN                 NaN  15 to 29 minutes   \n",
      "3                 NaN                 NaN  I work from home   \n",
      "4                 NaN                 NaN               NaN   \n",
      "\n",
      "             CountryCitizen               CountryLive  \\\n",
      "0                    Canada                    Canada   \n",
      "1  United States of America  United States of America   \n",
      "2  United States of America  United States of America   \n",
      "3                    Brazil                    Brazil   \n",
      "4                  Portugal                  Portugal   \n",
      "\n",
      "               EmploymentField EmploymentFieldOther  \\\n",
      "0  software development and IT                  NaN   \n",
      "1                          NaN                  NaN   \n",
      "2  software development and IT                  NaN   \n",
      "3  software development and IT                  NaN   \n",
      "4                          NaN                  NaN   \n",
      "\n",
      "                   EmploymentStatus EmploymentStatusOther  ExpectedEarning  \\\n",
      "0                Employed for wages                   NaN              NaN   \n",
      "1  Not working but looking for work                   NaN          35000.0   \n",
      "2                Employed for wages                   NaN          70000.0   \n",
      "3                Employed for wages                   NaN          40000.0   \n",
      "4  Not working but looking for work                   NaN         140000.0   \n",
      "\n",
      "   FinanciallySupporting  FirstDevJob  Gender GenderOther  HasChildren  \\\n",
      "0                    NaN          NaN  female         NaN          NaN   \n",
      "1                    NaN          NaN    male         NaN          NaN   \n",
      "2                    NaN          NaN    male         NaN          NaN   \n",
      "3                    0.0          NaN    male         NaN          0.0   \n",
      "4                    NaN          NaN  female         NaN          NaN   \n",
      "\n",
      "   HasDebt  HasFinancialDependents  HasHighSpdInternet  HasHomeMortgage  \\\n",
      "0      1.0                     0.0                 1.0              0.0   \n",
      "1      1.0                     0.0                 1.0              0.0   \n",
      "2      0.0                     0.0                 1.0              NaN   \n",
      "3      1.0                     1.0                 1.0              1.0   \n",
      "4      0.0                     0.0                 1.0              NaN   \n",
      "\n",
      "   HasServedInMilitary  HasStudentDebt  HomeMortgageOwe  HoursLearning  \\\n",
      "0                  0.0             0.0              NaN           15.0   \n",
      "1                  0.0             1.0              NaN           10.0   \n",
      "2                  0.0             NaN              NaN           25.0   \n",
      "3                  0.0             0.0          40000.0           14.0   \n",
      "4                  0.0             NaN              NaN           10.0   \n",
      "\n",
      "                               ID.x                              ID.y  \\\n",
      "0  02d9465b21e8bd09374b0066fb2d5614  eb78c1c3ac6cd9052aec557065070fbf   \n",
      "1  5bfef9ecb211ec4f518cfc1d2a6f3e0c  21db37adb60cdcafadfa7dca1b13b6b1   \n",
      "2  14f1863afa9c7de488050b82eb3edd96  21ba173828fbe9e27ccebaf4d5166a55   \n",
      "3  91756eb4dc280062a541c25a3d44cfb0  3be37b558f02daae93a6da10f83f0c77   \n",
      "4  aa3f061a1949a90b27bef7411ecd193f  d7c56bbf2c7b62096be9db010e86d96d   \n",
      "\n",
      "    Income  IsEthnicMinority  IsReceiveDisabilitiesBenefits  IsSoftwareDev  \\\n",
      "0      NaN               NaN                            0.0            0.0   \n",
      "1      NaN               0.0                            0.0            0.0   \n",
      "2  13000.0               1.0                            0.0            0.0   \n",
      "3  24000.0               0.0                            0.0            0.0   \n",
      "4      NaN               0.0                            0.0            0.0   \n",
      "\n",
      "   IsUnderEmployed              JobApplyWhen  JobInterestBackEnd  \\\n",
      "0              0.0                       NaN                 NaN   \n",
      "1              NaN     Within 7 to 12 months                 NaN   \n",
      "2              0.0     Within 7 to 12 months                 1.0   \n",
      "3              1.0  Within the next 6 months                 1.0   \n",
      "4              NaN     Within 7 to 12 months                 1.0   \n",
      "\n",
      "   JobInterestDataEngr  JobInterestDataSci  JobInterestDevOps  \\\n",
      "0                  NaN                 NaN                NaN   \n",
      "1                  NaN                 NaN                NaN   \n",
      "2                  NaN                 NaN                1.0   \n",
      "3                  NaN                 NaN                NaN   \n",
      "4                  NaN                 NaN                NaN   \n",
      "\n",
      "   JobInterestFrontEnd  JobInterestFullStack  JobInterestGameDev  \\\n",
      "0                  NaN                   NaN                 NaN   \n",
      "1                  NaN                   1.0                 NaN   \n",
      "2                  1.0                   1.0                 NaN   \n",
      "3                  1.0                   1.0                 NaN   \n",
      "4                  1.0                   1.0                 NaN   \n",
      "\n",
      "   JobInterestInfoSec  JobInterestMobile JobInterestOther  \\\n",
      "0                 NaN                NaN              NaN   \n",
      "1                 NaN                NaN              NaN   \n",
      "2                 NaN                1.0              NaN   \n",
      "3                 NaN                NaN              NaN   \n",
      "4                 1.0                1.0              NaN   \n",
      "\n",
      "   JobInterestProjMngr  JobInterestQAEngr  JobInterestUX  \\\n",
      "0                  NaN                NaN            NaN   \n",
      "1                  NaN                NaN            NaN   \n",
      "2                  NaN                NaN            NaN   \n",
      "3                  NaN                NaN            NaN   \n",
      "4                  NaN                NaN            NaN   \n",
      "\n",
      "                                JobPref  JobRelocateYesNo  \\\n",
      "0               start your own business               NaN   \n",
      "1                  work for a nonprofit               1.0   \n",
      "2       work for a medium-sized company               1.0   \n",
      "3       work for a medium-sized company               NaN   \n",
      "4  work for a multinational corporation               1.0   \n",
      "\n",
      "                                     JobRoleInterest  \\\n",
      "0                                                NaN   \n",
      "1                           Full-Stack Web Developer   \n",
      "2    Front-End Web Developer, Back-End Web Develo...   \n",
      "3    Front-End Web Developer, Full-Stack Web Deve...   \n",
      "4  Full-Stack Web Developer, Information Security...   \n",
      "\n",
      "                         JobWherePref LanguageAtHome  \\\n",
      "0                                 NaN        English   \n",
      "1  in an office with other developers        English   \n",
      "2                       no preference        Spanish   \n",
      "3                           from home     Portuguese   \n",
      "4  in an office with other developers     Portuguese   \n",
      "\n",
      "                     MaritalStatus  MoneyForLearning  MonthsProgramming  \\\n",
      "0  married or domestic partnership             150.0                6.0   \n",
      "1            single, never married              80.0                6.0   \n",
      "2            single, never married            1000.0                5.0   \n",
      "3  married or domestic partnership               0.0                5.0   \n",
      "4            single, never married               0.0               24.0   \n",
      "\n",
      "    NetworkID         Part1EndTime       Part1StartTime         Part2EndTime  \\\n",
      "0  6f1fbc6b2b  2017-03-09 00:36:22  2017-03-09 00:32:59  2017-03-09 00:59:46   \n",
      "1  f8f8be6910  2017-03-09 00:37:07  2017-03-09 00:33:26  2017-03-09 00:38:59   \n",
      "2  2ed189768e  2017-03-09 00:37:58  2017-03-09 00:33:53  2017-03-09 00:40:14   \n",
      "3  dbdc0664d1  2017-03-09 00:40:13  2017-03-09 00:37:45  2017-03-09 00:42:26   \n",
      "4  11b0f2d8a9  2017-03-09 00:42:45  2017-03-09 00:39:44  2017-03-09 00:45:42   \n",
      "\n",
      "        Part2StartTime  PodcastChangeLog  PodcastCodeNewbie  PodcastCodePen  \\\n",
      "0  2017-03-09 00:36:26               NaN                NaN             NaN   \n",
      "1  2017-03-09 00:37:10               NaN                1.0             NaN   \n",
      "2  2017-03-09 00:38:02               1.0                NaN             1.0   \n",
      "3  2017-03-09 00:40:18               NaN                NaN             NaN   \n",
      "4  2017-03-09 00:42:50               NaN                NaN             NaN   \n",
      "\n",
      "   PodcastDevTea  PodcastDotNET  PodcastGiantRobots  PodcastJSAir  \\\n",
      "0            1.0            NaN                 NaN           NaN   \n",
      "1            NaN            NaN                 NaN           NaN   \n",
      "2            NaN            NaN                 NaN           NaN   \n",
      "3            NaN            NaN                 NaN           NaN   \n",
      "4            NaN            NaN                 NaN           NaN   \n",
      "\n",
      "   PodcastJSJabber  PodcastNone PodcastOther  PodcastProgThrowdown  \\\n",
      "0              NaN          NaN          NaN                   NaN   \n",
      "1              NaN          NaN          NaN                   NaN   \n",
      "2              NaN          NaN   Codenewbie                   NaN   \n",
      "3              NaN          NaN          NaN                   NaN   \n",
      "4              NaN          NaN          NaN                   NaN   \n",
      "\n",
      "   PodcastRubyRogues  PodcastSEDaily  PodcastSERadio  PodcastShopTalk  \\\n",
      "0                NaN             NaN             NaN              NaN   \n",
      "1                NaN             NaN             NaN              NaN   \n",
      "2                NaN             NaN             NaN              1.0   \n",
      "3                NaN             NaN             NaN              NaN   \n",
      "4                NaN             NaN             NaN              NaN   \n",
      "\n",
      "   PodcastTalkPython  PodcastTheWebAhead  ResourceCodecademy  \\\n",
      "0                NaN                 NaN                 1.0   \n",
      "1                NaN                 NaN                 1.0   \n",
      "2                NaN                 NaN                 1.0   \n",
      "3                NaN                 NaN                 NaN   \n",
      "4                NaN                 NaN                 NaN   \n",
      "\n",
      "   ResourceCodeWars  ResourceCoursera  ResourceCSS  ResourceEdX  \\\n",
      "0               NaN               NaN          NaN          NaN   \n",
      "1               NaN               NaN          1.0          NaN   \n",
      "2               NaN               NaN          1.0          NaN   \n",
      "3               NaN               NaN          NaN          NaN   \n",
      "4               NaN               NaN          NaN          NaN   \n",
      "\n",
      "   ResourceEgghead  ResourceFCC  ResourceHackerRank  ResourceKA  \\\n",
      "0              NaN          1.0                 NaN         NaN   \n",
      "1              NaN          1.0                 NaN         NaN   \n",
      "2              NaN          1.0                 NaN         NaN   \n",
      "3              1.0          1.0                 NaN         NaN   \n",
      "4              NaN          NaN                 NaN         NaN   \n",
      "\n",
      "   ResourceLynda  ResourceMDN  ResourceOdinProj ResourceOther  \\\n",
      "0            NaN          1.0               NaN           NaN   \n",
      "1            NaN          NaN               NaN           NaN   \n",
      "2            NaN          1.0               NaN           NaN   \n",
      "3            NaN          1.0               NaN           NaN   \n",
      "4            NaN          NaN               NaN           NaN   \n",
      "\n",
      "   ResourcePluralSight  ResourceSkillcrush  ResourceSO  ResourceTreehouse  \\\n",
      "0                  NaN                 NaN         NaN                NaN   \n",
      "1                  NaN                 NaN         1.0                NaN   \n",
      "2                  NaN                 NaN         NaN                NaN   \n",
      "3                  NaN                 NaN         1.0                NaN   \n",
      "4                  NaN                 NaN         1.0                NaN   \n",
      "\n",
      "   ResourceUdacity  ResourceUdemy  ResourceW3S  \\\n",
      "0              NaN            1.0          1.0   \n",
      "1              NaN            1.0          1.0   \n",
      "2              1.0            1.0          NaN   \n",
      "3              NaN            NaN          NaN   \n",
      "4              NaN            NaN          NaN   \n",
      "\n",
      "                              SchoolDegree             SchoolMajor  \\\n",
      "0           some college credit, no degree                     NaN   \n",
      "1           some college credit, no degree                     NaN   \n",
      "2  high school diploma or equivalent (GED)                     NaN   \n",
      "3           some college credit, no degree                     NaN   \n",
      "4                        bachelor's degree  Information Technology   \n",
      "\n",
      "   StudentDebtOwe  YouTubeCodeCourse  YouTubeCodingTrain  YouTubeCodingTut360  \\\n",
      "0             NaN                NaN                 NaN                  NaN   \n",
      "1             NaN                NaN                 NaN                  NaN   \n",
      "2             NaN                NaN                 NaN                  1.0   \n",
      "3             NaN                NaN                 NaN                  NaN   \n",
      "4             NaN                NaN                 NaN                  NaN   \n",
      "\n",
      "   YouTubeComputerphile  YouTubeDerekBanas  YouTubeDevTips  \\\n",
      "0                   NaN                NaN             NaN   \n",
      "1                   NaN                NaN             NaN   \n",
      "2                   NaN                1.0             1.0   \n",
      "3                   NaN                NaN             1.0   \n",
      "4                   NaN                NaN             NaN   \n",
      "\n",
      "   YouTubeEngineeredTruth  YouTubeFCC  YouTubeFunFunFunction  \\\n",
      "0                     NaN         NaN                    NaN   \n",
      "1                     NaN         1.0                    NaN   \n",
      "2                     NaN         NaN                    NaN   \n",
      "3                     NaN         1.0                    1.0   \n",
      "4                     NaN         NaN                    NaN   \n",
      "\n",
      "   YouTubeGoogleDev  YouTubeLearnCode  YouTubeLevelUpTuts  YouTubeMIT  \\\n",
      "0               NaN               NaN                 NaN         NaN   \n",
      "1               NaN               NaN                 NaN         NaN   \n",
      "2               NaN               1.0                 1.0         NaN   \n",
      "3               NaN               NaN                 1.0         NaN   \n",
      "4               NaN               NaN                 NaN         NaN   \n",
      "\n",
      "   YouTubeMozillaHacks YouTubeOther  YouTubeSimplilearn  YouTubeTheNewBoston  \n",
      "0                  NaN          NaN                 NaN                  NaN  \n",
      "1                  NaN          NaN                 NaN                  NaN  \n",
      "2                  NaN          NaN                 NaN                  NaN  \n",
      "3                  NaN          NaN                 NaN                  NaN  \n",
      "4                  NaN          NaN                 NaN                  NaN  \n",
      "Index(['LanguageAtHome', 'MaritalStatus', 'MoneyForLearning',\n",
      "       'MonthsProgramming'],\n",
      "      dtype='object')\n"
     ]
    }
   ],
   "source": [
    "# First look at the data\n",
    "pd.options.display.max_columns = 150\n",
    "print(survey.shape)\n",
    "print(survey.head(5)[:20])\n",
    "print(survey.columns[70:74])"
   ]
  },
  {
   "cell_type": "markdown",
   "metadata": {},
   "source": [
    "## First analysis of dataset\n",
    "\n",
    "In total we have 136 columns and 18175 rows. This implies the participants were asked slightly above 100 questions and 18000 people took part in the survey.\n",
    "FreeCodeCamp has many courses. We are only interested in a few, since we are trying to establish a learning website on web development, which is a small subset of the courses offered on FreeDataCamp. We should first select the information we need from the total dataset to make working with it more manageable.\n",
    "\n",
    "This can be done by first looking at the contents of each of the columns:\n",
    "\n",
    "Columns:\n",
    "* 0: Age of participant\n",
    "* 1 - 5: Whether or not the participant attended certain coding boot camps or the name of the recommended coding camps by the participant\n",
    "* 6: Number of children\n",
    "* 7: population size of the participant's city\n",
    "* 8-23: Whether a participant attended certain coding events. 1 indicates attendance, NaN indicated non-attendance\n",
    "* 24: Commute time of participant\n",
    "* 25: Citizenship of the participant\n",
    "* 26: Country of residence\n",
    "* 27-30: Information about part's employment: EmploymentField; EmploymentFieldOther, EmploymentStatus, EmploymentStatusOther, Expected Earnings\n",
    "* 31-53: Information about the part's living/financial situation: FinanciallySupporting, FirstDevJob, Gender, GenderOther, HasChildren, HasDebt, HasFinancialDependents, HasHighspeedInternet, HasHomeMortgage, HasServedInMilitary, HasStudentDebt, HomeMortgageOwe, HoursLearning, id.x, id.y, Income, IsEthnicMinority, IsReceiveDisabilityBenefits, IsSoftwareDev, IsUnderEmployed, JobApplyWhen\n",
    "* 54 - 66: Job field interests: JobInterestBackEnd, JobInterestDataEngr, JobInterestDataSci, JobInterestDevOps, JobInterestFrontEnd, JobInterestFulSteck, JobInterestGameDev, JobInterestInfoSec, JobInterestMobild, JobInterestOther, JobInterestProjMgr, JobInterestQAEngr, JobInterestUX\n",
    "* 67 - 69: Information about the participant's preferences for future jobs JobRelocateYesNO, JobRoleInteres, JobWherePref\n",
    "* 70 - 73: Information about external factors influencing the participants studies: LanguageAtHome, MaritalStatus, MoneyForLearning\n",
    "* 74 NetworkID: Probably the unique identifier of the user\n",
    "* 75 - 135: Information on which resources the participant has used to learn their coding skills before enrolling in FreeCodeCamp"
   ]
  },
  {
   "cell_type": "markdown",
   "metadata": {},
   "source": [
    "## Making a new survey vs. using the existing one:\n",
    "\n",
    "Since this project is based on the premise of working for an employer who is trying to get a new coding website off the ground, the question after looking at the available dataset by FreeCodeCamp is now, whether it would be better to use the dataset or conduct a new survey and generate a new one:\n",
    "\n",
    "Advantages of using the existing survey:\n",
    "\n",
    "* price: the dataset was made by FreeCodeCamp and is already completed and available to the public. The only investment would be the cost of analyzing the dataset.\n",
    "\n",
    "* reach: FreeDataCamp is a well-established, large coding platform. With their survey, they are able to reach a lot of people. This dataset contains information about more than 18000 people.\n",
    "\n",
    "* population: the survey was answered by people signing up for FreeDataCamp, this means it is about people who are just starting on their journey of learning to code, which is exactly the type of person that would be interested in the new website\n",
    "\n",
    "Disadvantages of using the survey:\n",
    "\n",
    "* difference in population: even though the survey is answered by people who are just getting into learning to code, they are also people who signed up to a free website. The new website will only offer paid models. This means that the participants of the FreeCodeCamp survey might not be the right audience to target for a new survey\n",
    "\n",
    "* available information: making a new survey would enable us to tailor-make the survey. This means we could ask exactly the type of questions we need answers to. Using the completed survey limits us to the questions that were asked in the survey. \n",
    "\n",
    "\n",
    "### Conclusion\n",
    "\n",
    "In total it would be a good idea to use the existing dataset. It is much cheaper that way, which is very important to a new company to save money. The participants of the survey are very close to the ideal target audience for the new website and the existing dataset was answered by a large amount of people. If it turns out that the survey does not provide the right information after its analysis, a new one can still be conducted.\n",
    "\n",
    "The dataset can be downloaded [here](https://raw.githubusercontent.com/freeCodeCamp/2017-new-coder-survey/master/clean-data/2017-fCC-New-Coders-Survey-Data.csv)."
   ]
  },
  {
   "cell_type": "markdown",
   "metadata": {},
   "source": [
    "## Analysis of the job interests of the participants:\n",
    "\n",
    "The first question to answer will be if a website based on learning web development is even viable. To find this out the job interests of the participants will be analyzed:"
   ]
  },
  {
   "cell_type": "code",
   "execution_count": 11,
   "metadata": {},
   "outputs": [
    {
     "data": {
      "text/plain": [
       "Full-Stack Web Developer                                                                                                                             11.770595\n",
       "  Front-End Web Developer                                                                                                                             6.435927\n",
       "  Data Scientist                                                                                                                                      2.173913\n",
       "Back-End Web Developer                                                                                                                                2.030892\n",
       "  Mobile Developer                                                                                                                                    1.673341\n",
       "                                                                                                                                                       ...    \n",
       "  Front-End Web Developer, Information Security, Back-End Web Developer, Full-Stack Web Developer,   Data Scientist,   Quality Assurance Engineer     0.014302\n",
       "Information Security, Data Engineer,   Data Scientist, Game Developer                                                                                 0.014302\n",
       "  Product Manager, Back-End Web Developer,   Mobile Developer, Full-Stack Web Developer,   Data Scientist,   Front-End Web Developer                  0.014302\n",
       "  Product Manager, Full-Stack Web Developer, Game Developer,   Front-End Web Developer                                                                0.014302\n",
       "Full-Stack Web Developer, Data Engineer, Back-End Web Developer,   Data Scientist                                                                     0.014302\n",
       "Name: JobRoleInterest, Length: 3213, dtype: float64"
      ]
     },
     "execution_count": 11,
     "metadata": {},
     "output_type": "execute_result"
    }
   ],
   "source": [
    "freq_tb_ji = survey.JobRoleInterest.value_counts(normalize = True)*100\n",
    "freq_tb_ji"
   ]
  },
  {
   "cell_type": "markdown",
   "metadata": {},
   "source": [
    "Finding out how many people are interested in multiple subjects:"
   ]
  },
  {
   "cell_type": "code",
   "execution_count": 12,
   "metadata": {},
   "outputs": [
    {
     "data": {
      "text/plain": [
       "Text(0, 0.5, '')"
      ]
     },
     "execution_count": 12,
     "metadata": {},
     "output_type": "execute_result"
    },
    {
     "data": {
      "image/png": "[encoded data removed]",
      "text/plain": [
       "<Figure size 432x432 with 1 Axes>"
      ]
     },
     "metadata": {},
     "output_type": "display_data"
    }
   ],
   "source": [
    "jobroleinterests = survey.JobRoleInterest\n",
    "#Droping null values, so we can split the strings without provocing errors\n",
    "jobroleinterests = jobroleinterests.dropna()\n",
    "\n",
    "single_interests = jobroleinterests.str.split(',').apply(lambda x: len(x) == 1).value_counts(normalize = True)*100\n",
    "plt.figure(figsize = (6,6))\n",
    "single_interests.plot.pie(labels = ['multiple interests', 'single interest'], autopct = '%.2f%%')\n",
    "plt.ylabel('')"
   ]
  },
  {
   "cell_type": "markdown",
   "metadata": {},
   "source": [
    "## Results\n",
    "\n",
    "About 68% of all participants are interested in multiple job roles. But in this case their entry under `JobRoleInterest` is a list of all the fields they are interested in. This needs to be taken into account when analyzing the data."
   ]
  },
  {
   "cell_type": "code",
   "execution_count": 14,
   "metadata": {},
   "outputs": [
    {
     "name": "stdout",
     "output_type": "stream",
     "text": [
      "86.0% of all participants are in our demographic\n"
     ]
    }
   ],
   "source": [
    "#Finding out what part of the population in this survey are potential customers for the new website:\n",
    "\n",
    "mobile_or_web = jobroleinterests.str.contains('Web Developer|Mobile Developer')\n",
    "print(str(round(mobile_or_web.sum()/jobroleinterests.shape[0]*100)) + '% of all participants are in our demographic')"
   ]
  },
  {
   "cell_type": "markdown",
   "metadata": {},
   "source": [
    "This means that the survey is quite relevant to our research."
   ]
  },
  {
   "cell_type": "code",
   "execution_count": 15,
   "metadata": {
    "scrolled": false
   },
   "outputs": [
    {
     "data": {
      "image/png": "[encoded data removed]",
      "text/plain": [
       "<Figure size 432x288 with 1 Axes>"
      ]
     },
     "metadata": {
      "needs_background": "light"
     },
     "output_type": "display_data"
    }
   ],
   "source": [
    "mobile_or_web.value_counts(normalize = True).plot.bar(title = 'Participants Interested in our Fields')\n",
    "plt.xticks([0,1], ['Interested in Web\\n or Mobile Dev', 'Other Interests'], rotation = 0)\n",
    "plt.show()"
   ]
  },
  {
   "cell_type": "markdown",
   "metadata": {},
   "source": [
    "The overwhelming majority of participants is in our demographic. So this dataset can be used effectively."
   ]
  },
  {
   "cell_type": "code",
   "execution_count": 17,
   "metadata": {},
   "outputs": [
    {
     "name": "stdout",
     "output_type": "stream",
     "text": [
      "(18175, 136)\n",
      "(6992, 136)\n"
     ]
    }
   ],
   "source": [
    "#Dropping all rows with NULL values in the JobRoleInterest column\n",
    "print(survey.shape)\n",
    "survey_no_na = survey.dropna(subset = ['JobRoleInterest'], axis = 0).copy()\n",
    "print(survey_no_na.shape)"
   ]
  },
  {
   "cell_type": "code",
   "execution_count": 18,
   "metadata": {},
   "outputs": [
    {
     "name": "stdout",
     "output_type": "stream",
     "text": [
      "United States of America    3125\n",
      "India                        528\n",
      "United Kingdom               315\n",
      "Canada                       260\n",
      "Poland                       131\n",
      "Name: CountryLive, dtype: int64\n"
     ]
    },
    {
     "data": {
      "text/plain": [
       "United States of America    45.700497\n",
       "India                        7.721556\n",
       "United Kingdom               4.606610\n",
       "Canada                       3.802281\n",
       "Poland                       1.915765\n",
       "Name: CountryLive, dtype: float64"
      ]
     },
     "execution_count": 18,
     "metadata": {},
     "output_type": "execute_result"
    }
   ],
   "source": [
    "#Frequency tables for the countries\n",
    "print(survey_no_na.CountryLive.value_counts().head())\n",
    "survey_no_na.CountryLive.value_counts(normalize = True).head()*100"
   ]
  },
  {
   "cell_type": "markdown",
   "metadata": {},
   "source": [
    "The most promising markets seem to be the countries with a large number of English speakers (USA, India, UK, Canada). Due to the fact that we are building a monetized website, while the data we are using is from the user base of a free website, we should look at the amount people are willing to spend on learning in each country, to see which countries are viable."
   ]
  },
  {
   "cell_type": "code",
   "execution_count": 19,
   "metadata": {},
   "outputs": [],
   "source": [
    "# exchanging all 0 values for months programming to 1 so we don't divide by 0\n",
    "survey_no_na.loc[survey_no_na.MonthsProgramming == 0, 'MonthsProgramming'] = 1\n",
    "\n",
    "survey_no_na['money_per_month'] = survey_no_na.MoneyForLearning/survey_no_na.MonthsProgramming"
   ]
  },
  {
   "cell_type": "code",
   "execution_count": 20,
   "metadata": {},
   "outputs": [
    {
     "data": {
      "text/plain": [
       "CountryLive\n",
       "United States of America    227.997996\n",
       "India                       135.100982\n",
       "United Kingdom               45.534443\n",
       "Canada                      113.510961\n",
       "Name: money_per_month, dtype: float64"
      ]
     },
     "execution_count": 20,
     "metadata": {},
     "output_type": "execute_result"
    }
   ],
   "source": [
    "survey_country = survey_no_na.groupby('CountryLive')\n",
    "survey_country.money_per_month.apply(np.mean)[['United States of America', 'India', 'United Kingdom', 'Canada']]"
   ]
  },
  {
   "cell_type": "markdown",
   "metadata": {},
   "source": [
    "It seems like the students from the USA spend the most money, whereas the UK sticks out with the least spent per month. India, which has the second most students also spends the second most money per month on learning. So the two best markets to advertise judging by the mean to would be the USA and India. But this statement is only based on the mean, which is currently the only thing we know about the data. We should investigate the data further. But in general the data is plausible, since in the UK and Canada education is free and people will be unwilling to pay for services their government provides free of charge."
   ]
  },
  {
   "cell_type": "code",
   "execution_count": 21,
   "metadata": {},
   "outputs": [],
   "source": [
    "countries = ['United States of America', 'India', 'United Kingdom', 'Canada']\n",
    "survey_no_na.dropna(subset = ['CountryLive'], inplace = True)\n",
    "survey_top_4 = survey_no_na.loc[survey_no_na.CountryLive.str.\n",
    "                                contains('''United States of America|India|United Kingdom|Canada''')].copy()"
   ]
  },
  {
   "cell_type": "code",
   "execution_count": 22,
   "metadata": {},
   "outputs": [
    {
     "data": {
      "image/png": "[encoded data removed]",
      "text/plain": [
       "<Figure size 720x360 with 1 Axes>"
      ]
     },
     "metadata": {
      "needs_background": "light"
     },
     "output_type": "display_data"
    }
   ],
   "source": [
    "plt.figure(figsize = (10,5))\n",
    "sns.boxplot(y = 'money_per_month', x = 'CountryLive', data = survey_top_4)\n",
    "plt.title('Money Per Month Per Country (USD)', fontsize = 16)\n",
    "plt.ylabel('Money Per Month (USD)', fontsize = 14)\n",
    "plt.xlabel('Country', fontsize = 14)\n",
    "plt.xticks([0,1,2,3], ['US', 'India', 'UK', 'CAN'], fontsize = 13)\n",
    "plt.show()"
   ]
  },
  {
   "cell_type": "markdown",
   "metadata": {},
   "source": [
    "### Results\n",
    "\n",
    "This plot doesn't tell us much about the data, except that someone apparently put their terrible American college experience into the data. There are two outliers when we look at the data from the US participants. These are 80000 and 50000 USD per month. A likely cause of this unreasonable data is the phrasing of the questions. It asks how much people have spent on education and how long they have been coding. If their eduction is not in coding, they will have answered correctly and still given us unreasonable data. This is likely the cause of all data points of above 5000 USD per month. The way the questions are phrased in the survey makes them unsuited to answer our question. But if we want at least usable data we should exclude all datapoints above 2000 USD per month or even lower, since college eduction in almost all countries except the US cost way less than that amount."
   ]
  },
  {
   "cell_type": "markdown",
   "metadata": {},
   "source": [
    "We will start by eliminating the extreme outliers:"
   ]
  },
  {
   "cell_type": "code",
   "execution_count": 23,
   "metadata": {},
   "outputs": [
    {
     "name": "stdout",
     "output_type": "stream",
     "text": [
      "(4228, 137)\n",
      "(3913, 137)\n"
     ]
    }
   ],
   "source": [
    "print(survey_top_4.shape)\n",
    "survey_top_4 = survey_top_4.loc[survey_top_4.money_per_month < 20000]\n",
    "print(survey_top_4.shape)"
   ]
  },
  {
   "cell_type": "markdown",
   "metadata": {},
   "source": [
    "It seems we had to exclude quite a lot of participants"
   ]
  },
  {
   "cell_type": "markdown",
   "metadata": {},
   "source": [
    "Recalculating the mean money spent per month"
   ]
  },
  {
   "cell_type": "code",
   "execution_count": 24,
   "metadata": {},
   "outputs": [
    {
     "data": {
      "text/plain": [
       "CountryLive\n",
       "United States of America    183.800110\n",
       "India                       135.100982\n",
       "Canada                      113.510961\n",
       "United Kingdom               45.534443\n",
       "Name: money_per_month, dtype: float64"
      ]
     },
     "execution_count": 24,
     "metadata": {},
     "output_type": "execute_result"
    }
   ],
   "source": [
    "survey_top_4.groupby('CountryLive').mean()['money_per_month'].sort_values(ascending = False)"
   ]
  },
  {
   "cell_type": "code",
   "execution_count": 25,
   "metadata": {
    "scrolled": true
   },
   "outputs": [
    {
     "data": {
      "text/plain": [
       "<matplotlib.axes._subplots.AxesSubplot at 0x1d979be2448>"
      ]
     },
     "execution_count": 25,
     "metadata": {},
     "output_type": "execute_result"
    },
    {
     "data": {
      "image/png": "[encoded data removed]",
      "text/plain": [
       "<Figure size 432x288 with 1 Axes>"
      ]
     },
     "metadata": {
      "needs_background": "light"
     },
     "output_type": "display_data"
    }
   ],
   "source": [
    "sns.boxplot(x = 'CountryLive', y = 'money_per_month', data = survey_top_4)"
   ]
  },
  {
   "cell_type": "markdown",
   "metadata": {},
   "source": [
    "There are still seveal outliers. The US population still has a lot of people still reporting over 5000 USD per month in spending. In india there are several participants who particularly stick out. Apparently coding bootcamps are very expensive, so we need to check wethere these participants took part in any of those."
   ]
  },
  {
   "cell_type": "code",
   "execution_count": 26,
   "metadata": {},
   "outputs": [],
   "source": [
    "survey_top_4.loc[(survey_top_4.money_per_month > 3000) & (survey_top_4.CountryLive == 'India')]\n",
    "bootcamp_cols = survey_top_4.columns[survey_top_4.columns.str.contains('Bootcamp', flags = re.I)].tolist()"
   ]
  },
  {
   "cell_type": "code",
   "execution_count": 27,
   "metadata": {
    "scrolled": true
   },
   "outputs": [
    {
     "name": "stdout",
     "output_type": "stream",
     "text": [
      "       AttendedBootcamp  BootcampFinish  BootcampLoanYesNo BootcampName  \\\n",
      "1728                0.0             NaN                NaN          NaN   \n",
      "1755                0.0             NaN                NaN          NaN   \n",
      "7989                0.0             NaN                NaN          NaN   \n",
      "8126                0.0             NaN                NaN          NaN   \n",
      "13398               0.0             NaN                NaN          NaN   \n",
      "15587               0.0             NaN                NaN          NaN   \n",
      "\n",
      "       BootcampRecommend  CodeEventWkdBootcamps  \n",
      "1728                 NaN                    NaN  \n",
      "1755                 NaN                    NaN  \n",
      "7989                 NaN                    NaN  \n",
      "8126                 NaN                    NaN  \n",
      "13398                NaN                    NaN  \n",
      "15587                NaN                    NaN  \n"
     ]
    }
   ],
   "source": [
    "print(survey_top_4.loc[(survey_top_4.money_per_month > 3000) &\n",
    "                       (survey_top_4.CountryLive == 'India')\n",
    "                       ,bootcamp_cols])"
   ]
  },
  {
   "cell_type": "markdown",
   "metadata": {},
   "source": [
    "So none of the participants from India who spent over 3000 USD on education reported that they attended any coding bootcamps. At this point DataQuest recommends removing all Indians who spent over 2500 USD on education."
   ]
  },
  {
   "cell_type": "code",
   "execution_count": 28,
   "metadata": {},
   "outputs": [
    {
     "name": "stdout",
     "output_type": "stream",
     "text": [
      "(3913, 137)\n",
      "(3907, 137)\n"
     ]
    }
   ],
   "source": [
    "print(survey_top_4.shape)\n",
    "survey_top_4 = survey_top_4.drop(index = survey_top_4.loc[\n",
    "    (survey_top_4.money_per_month > 2500)\n",
    "                       & (survey_top_4.CountryLive == 'India')].index)\n",
    "print(survey_top_4.shape)"
   ]
  },
  {
   "cell_type": "markdown",
   "metadata": {},
   "source": [
    "The other outliers are those from the US participants. Up until 6000 USD per month the outliers are grouped together, but above they start to separate, so we will look at those."
   ]
  },
  {
   "cell_type": "code",
   "execution_count": 29,
   "metadata": {},
   "outputs": [
    {
     "name": "stdout",
     "output_type": "stream",
     "text": [
      "       AttendedBootcamp  BootcampFinish  BootcampLoanYesNo  \\\n",
      "718                 1.0             0.0                0.0   \n",
      "1222                1.0             0.0                0.0   \n",
      "3184                1.0             1.0                0.0   \n",
      "3930                0.0             NaN                NaN   \n",
      "6805                1.0             1.0                1.0   \n",
      "7198                0.0             NaN                NaN   \n",
      "7505                1.0             0.0                1.0   \n",
      "9778                1.0             0.0                1.0   \n",
      "16650               0.0             NaN                NaN   \n",
      "16997               0.0             NaN                NaN   \n",
      "17231               0.0             NaN                NaN   \n",
      "\n",
      "                                 BootcampName  BootcampRecommend  \\\n",
      "718    The Coding Boot Camp at UCLA Extension                1.0   \n",
      "1222                            The Iron Yard                1.0   \n",
      "3184                           We Can Code IT                1.0   \n",
      "3930                                      NaN                NaN   \n",
      "6805                                 Sabio.la                0.0   \n",
      "7198                                      NaN                NaN   \n",
      "7505                                   Codeup                0.0   \n",
      "9778                             Grand Circus                1.0   \n",
      "16650                                     NaN                NaN   \n",
      "16997                                     NaN                NaN   \n",
      "17231                                     NaN                NaN   \n",
      "\n",
      "       CodeEventWkdBootcamps  \n",
      "718                      NaN  \n",
      "1222                     NaN  \n",
      "3184                     NaN  \n",
      "3930                     NaN  \n",
      "6805                     NaN  \n",
      "7198                     NaN  \n",
      "7505                     NaN  \n",
      "9778                     NaN  \n",
      "16650                    NaN  \n",
      "16997                    NaN  \n",
      "17231                    NaN  \n"
     ]
    }
   ],
   "source": [
    "print(survey_top_4.loc\n",
    "    [(survey_top_4.money_per_month > 6000) &\n",
    "      (survey_top_4.CountryLive == 'United States of America'),\n",
    "     bootcamp_cols])"
   ]
  },
  {
   "cell_type": "markdown",
   "metadata": {},
   "source": [
    "Most of the Americans that have spent more than 6000 USD on education per month have also attended boot camps. This means that probably this information seems reliable and we can keep the data points in the analysis"
   ]
  },
  {
   "cell_type": "code",
   "execution_count": 30,
   "metadata": {},
   "outputs": [
    {
     "data": {
      "text/plain": [
       "CountryLive\n",
       "United States of America    183.800110\n",
       "Canada                      113.510961\n",
       "India                        65.758763\n",
       "United Kingdom               45.534443\n",
       "Name: money_per_month, dtype: float64"
      ]
     },
     "execution_count": 30,
     "metadata": {},
     "output_type": "execute_result"
    }
   ],
   "source": [
    "survey_top_4.groupby('CountryLive').mean().money_per_month.sort_values(ascending = False)"
   ]
  },
  {
   "cell_type": "markdown",
   "metadata": {},
   "source": [
    "According to these results, The two best markets for advertising would be those of the US and Canada as they are the two countries where residents spend the most money per month on education.\n",
    "\n",
    "It should be said, however that there are more potential customers in India, since more of the participants in the original survey were from India. So advertising there might be a good idea as well. In addition most educated Indians speak English very well, due to the countries colonial history. The cultural differences between India and the rest would be much larger than between Canada and the US, which would have to be taken into consideration when advertising. More analysis is needed.\n",
    "\n",
    "The target price per month is 59 USD. Now to find out what part of the Indian participants would be willing to spend this much on education per month."
   ]
  },
  {
   "cell_type": "code",
   "execution_count": 32,
   "metadata": {},
   "outputs": [
    {
     "data": {
      "image/png": "[encoded data removed]",
      "text/plain": [
       "<Figure size 432x288 with 1 Axes>"
      ]
     },
     "metadata": {
      "needs_background": "light"
     },
     "output_type": "display_data"
    }
   ],
   "source": [
    "data_countries = survey_top_4.groupby('CountryLive')\n",
    "data_countries.get_group('India').money_per_month.plot.kde(\n",
    "    title = 'Money Spent on Education Per Month by Indians',\n",
    "    xlim = (0,200))\n",
    "plt.axvline(59, color = 'k', label = 'Our Price')\n",
    "plt.legend()\n",
    "plt.show()"
   ]
  },
  {
   "cell_type": "markdown",
   "metadata": {},
   "source": [
    "We can see that only a small group is willing to pay as much money as we would be asking in India"
   ]
  },
  {
   "cell_type": "code",
   "execution_count": 33,
   "metadata": {},
   "outputs": [
    {
     "data": {
      "image/png": "[encoded data removed]",
      "text/plain": [
       "<Figure size 432x288 with 1 Axes>"
      ]
     },
     "metadata": {
      "needs_background": "light"
     },
     "output_type": "display_data"
    }
   ],
   "source": [
    "data_countries.get_group('Canada').money_per_month.plot.kde(xlim = (0,500),\n",
    "    title = 'Money Spent on Education Per Month by Canadians')\n",
    "plt.axvline(59, color = 'k', label = 'Our Price')\n",
    "plt.legend()\n",
    "plt.show()"
   ]
  },
  {
   "cell_type": "markdown",
   "metadata": {},
   "source": [
    "In general the Canadians also seem very unhappy with spending the amount targeted."
   ]
  },
  {
   "cell_type": "markdown",
   "metadata": {},
   "source": [
    "### z-value\n",
    "\n",
    "The Standard score or z-value is the number of standard deviations a value is separated from the mean of a value. This means that the z-value can be used as a measure of each country's participants to spend 59 USD on the new website:"
   ]
  },
  {
   "cell_type": "code",
   "execution_count": 34,
   "metadata": {},
   "outputs": [],
   "source": [
    "def z_val(val, arr):\n",
    "    '''Calculate the z-value of a value relative to the values in an array\n",
    "    Args:\n",
    "        val (float, int): value of which the z-value should be calculated\n",
    "        arr (numpy array of dtype float or int): array with values\n",
    "    Returns:\n",
    "        float: z-value of val relative to the values in the array arr\n",
    "    '''\n",
    "    return (val - np.mean(arr)) / np.std(arr)"
   ]
  },
  {
   "cell_type": "code",
   "execution_count": 35,
   "metadata": {},
   "outputs": [
    {
     "name": "stdout",
     "output_type": "stream",
     "text": [
      "Z-value in India: -0.029\n",
      "Z-value in Canada: -0.1239\n"
     ]
    }
   ],
   "source": [
    "print('Z-value in India: '+\n",
    "      str(round(z_val(59, data_countries.get_group('India').money_per_month),4)))\n",
    "print('Z-value in Canada: '+\n",
    "      str(round(z_val(59, data_countries.get_group('Canada').money_per_month),4)))"
   ]
  },
  {
   "cell_type": "code",
   "execution_count": 40,
   "metadata": {},
   "outputs": [
    {
     "name": "stdout",
     "output_type": "stream",
     "text": [
      "65.75876291230809\n",
      "113.51096098711231\n"
     ]
    }
   ],
   "source": [
    "print(np.mean(data_countries.get_group('India').money_per_month))\n",
    "print(np.mean(data_countries.get_group('Canada').money_per_month))"
   ]
  },
  {
   "cell_type": "markdown",
   "metadata": {},
   "source": [
    "### Results\n",
    "\n",
    "The z-values of each country show, that Canadians are willing to spend much more than the price goal of 59 USD whereas the average willingness to spend money of Indians is slightly above, but very close to the goal. This means that a larger part of the Canadian population would be willing to spend the money.\n",
    "\n",
    "But it must be said, of course, that the Indian population is much higher than that of Canada, so a smaller fraction of a much larger population could mean more potential customers."
   ]
  },
  {
   "cell_type": "markdown",
   "metadata": {},
   "source": [
    "To put this data into perspective, we should look at what percentage of potential customers actually comes from what country."
   ]
  },
  {
   "cell_type": "code",
   "execution_count": 42,
   "metadata": {},
   "outputs": [
    {
     "data": {
      "text/plain": [
       "United States of America    75.019196\n",
       "India                       11.696954\n",
       "United Kingdom               7.141029\n",
       "Canada                       6.142821\n",
       "Name: CountryLive, dtype: float64"
      ]
     },
     "execution_count": 42,
     "metadata": {},
     "output_type": "execute_result"
    }
   ],
   "source": [
    "survey_top_4.CountryLive.value_counts(normalize = True)*100"
   ]
  },
  {
   "cell_type": "markdown",
   "metadata": {},
   "source": [
    "We can see that a large majority of our potential user base comes from the US. This in addition to the fact that Americans are the largest spenders on average implies the idea, that a large majority of the advertising budget should be spent on the US market. \n",
    "\n",
    "Advertising in Canada in addition to the US would probably not increase the cost of the advertising campaign significantly, because of the similarity in culture of the US and Canada, the same adverts could likely be used. In addition, the close geographic proximity of the two countries would allow hardware, such as servers to be used by both groups\n",
    "\n",
    "Expanding into the Indian market would be a logical next step. Even though the price goal of 59 USD is very close to the average Indian's spending potential per month, the giant population and possible market make India a very promising market. In addition a small drop in price for that region could increase the potential impact of an advertising campaign even further.\n",
    "\n",
    "It might be a good idea just to advertise in the US at first and explore expansion into later markets later on. The US is ideal for this sort of monetized education, since they pay horrendous sums of money for their college education and our service will seem like a bargain.\n",
    "\n",
    "If there was a marketing team in the company, their decision would be more educated on these matters."
   ]
  },
  {
   "cell_type": "markdown",
   "metadata": {},
   "source": [
    "## Conclusions\n",
    "\n",
    "In this project, data from a survey conducted by the website FreeCodingAcademy was analyzed with the intent of being able to make well-founded marketing decisions in a new education platform focused on Web and Mobile development. \n",
    "\n",
    "The results showed that in this case the main focus of the advertising campaign should be the US. As a second market, Canada might be interesting, but this is not clear, since there are a lot less potential users in Canada and they are willing to spend less on education. But advertising there would require very little change compared to the advertising campaign in the US.\n",
    "\n",
    "The Indian market is a huge potential next market, but would require additional steps when advertising and setting up infrastructure to host the service."
   ]
  }
 ],
 "metadata": {
  "kernelspec": {
   "display_name": "Python 3",
   "language": "python",
   "name": "python3"
  },
  "language_info": {
   "codemirror_mode": {
    "name": "ipython",
    "version": 3
   },
   "file_extension": ".py",
   "mimetype": "text/x-python",
   "name": "python",
   "nbconvert_exporter": "python",
   "pygments_lexer": "ipython3",
   "version": "3.7.6"
  }
 },
 "nbformat": 4,
 "nbformat_minor": 2
}
