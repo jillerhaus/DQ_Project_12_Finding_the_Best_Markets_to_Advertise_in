{
 "cells": [
  {
   "cell_type": "markdown",
   "metadata": {
    "collapsed": true
   },
   "source": [
    "## Market Research for FreeCodeCamp\n",
    "\n",
    "In this project data from a survey of new users of the FreeCodeCamp will be analyzed. The goal of the project will be to make recommendations on the two primary demographics on which to spend advertising budget most effectively for an online learning platform, that is freshly starting out. The focus from a learning perspective will be on the statistical analysis of the given data."
   ]
  },
  {
   "cell_type": "code",
   "execution_count": 1,
   "metadata": {
    "collapsed": true
   },
   "outputs": [],
   "source": [
    "# Imports\n",
    "import numpy as np\n",
    "import re\n",
    "import pandas as pd\n",
    "import matplotlib.pyplot as plt\n",
    "import seaborn as sns\n",
    "%matplotlib inline"
   ]
  },
  {
   "cell_type": "code",
   "execution_count": 2,
   "metadata": {
    "collapsed": false
   },
   "outputs": [],
   "source": [
    "survey = pd.read_csv('2017-fCC-New-Coders-Survey-Data.csv', low_memory = 0)"
   ]
  },
  {
   "cell_type": "code",
   "execution_count": 3,
   "metadata": {
    "collapsed": false
   },
   "outputs": [
    {
     "name": "stdout",
     "output_type": "stream",
     "text": [
      "(18175, 136)\n",
      "    Age  AttendedBootcamp  BootcampFinish  BootcampLoanYesNo BootcampName  \\\n",
      "0  27.0               0.0             NaN                NaN          NaN   \n",
      "1  34.0               0.0             NaN                NaN          NaN   \n",
      "2  21.0               0.0             NaN                NaN          NaN   \n",
      "3  26.0               0.0             NaN                NaN          NaN   \n",
      "4  20.0               0.0             NaN                NaN          NaN   \n",
      "\n",
      "   BootcampRecommend  ChildrenNumber                 CityPopulation  \\\n",
      "0                NaN             NaN            more than 1 million   \n",
      "1                NaN             NaN              less than 100,000   \n",
      "2                NaN             NaN            more than 1 million   \n",
      "3                NaN             NaN  between 100,000 and 1 million   \n",
      "4                NaN             NaN  between 100,000 and 1 million   \n",
      "\n",
      "   CodeEventConferences  CodeEventDjangoGirls  CodeEventFCC  CodeEventGameJam  \\\n",
      "0                   NaN                   NaN           NaN               NaN   \n",
      "1                   NaN                   NaN           NaN               NaN   \n",
      "2                   NaN                   NaN           NaN               NaN   \n",
      "3                   NaN                   NaN           NaN               NaN   \n",
      "4                   NaN                   NaN           NaN               NaN   \n",
      "\n",
      "   CodeEventGirlDev  CodeEventHackathons  CodeEventMeetup  \\\n",
      "0               NaN                  NaN              NaN   \n",
      "1               NaN                  NaN              NaN   \n",
      "2               NaN                  1.0              NaN   \n",
      "3               NaN                  NaN              NaN   \n",
      "4               NaN                  NaN              NaN   \n",
      "\n",
      "   CodeEventNodeSchool  CodeEventNone CodeEventOther  CodeEventRailsBridge  \\\n",
      "0                  NaN            NaN            NaN                   NaN   \n",
      "1                  NaN            NaN            NaN                   NaN   \n",
      "2                  1.0            NaN            NaN                   NaN   \n",
      "3                  NaN            NaN            NaN                   NaN   \n",
      "4                  NaN            NaN            NaN                   NaN   \n",
      "\n",
      "   CodeEventRailsGirls  CodeEventStartUpWknd  CodeEventWkdBootcamps  \\\n",
      "0                  NaN                   NaN                    NaN   \n",
      "1                  NaN                   NaN                    NaN   \n",
      "2                  NaN                   NaN                    NaN   \n",
      "3                  NaN                   NaN                    NaN   \n",
      "4                  NaN                   NaN                    NaN   \n",
      "\n",
      "   CodeEventWomenCode  CodeEventWorkshops       CommuteTime  \\\n",
      "0                 NaN                 NaN  15 to 29 minutes   \n",
      "1                 NaN                 NaN               NaN   \n",
      "2                 NaN                 NaN  15 to 29 minutes   \n",
      "3                 NaN                 NaN  I work from home   \n",
      "4                 NaN                 NaN               NaN   \n",
      "\n",
      "             CountryCitizen               CountryLive  \\\n",
      "0                    Canada                    Canada   \n",
      "1  United States of America  United States of America   \n",
      "2  United States of America  United States of America   \n",
      "3                    Brazil                    Brazil   \n",
      "4                  Portugal                  Portugal   \n",
      "\n",
      "               EmploymentField EmploymentFieldOther  \\\n",
      "0  software development and IT                  NaN   \n",
      "1                          NaN                  NaN   \n",
      "2  software development and IT                  NaN   \n",
      "3  software development and IT                  NaN   \n",
      "4                          NaN                  NaN   \n",
      "\n",
      "                   EmploymentStatus EmploymentStatusOther  ExpectedEarning  \\\n",
      "0                Employed for wages                   NaN              NaN   \n",
      "1  Not working but looking for work                   NaN          35000.0   \n",
      "2                Employed for wages                   NaN          70000.0   \n",
      "3                Employed for wages                   NaN          40000.0   \n",
      "4  Not working but looking for work                   NaN         140000.0   \n",
      "\n",
      "   FinanciallySupporting  FirstDevJob  Gender GenderOther  HasChildren  \\\n",
      "0                    NaN          NaN  female         NaN          NaN   \n",
      "1                    NaN          NaN    male         NaN          NaN   \n",
      "2                    NaN          NaN    male         NaN          NaN   \n",
      "3                    0.0          NaN    male         NaN          0.0   \n",
      "4                    NaN          NaN  female         NaN          NaN   \n",
      "\n",
      "   HasDebt  HasFinancialDependents  HasHighSpdInternet  HasHomeMortgage  \\\n",
      "0      1.0                     0.0                 1.0              0.0   \n",
      "1      1.0                     0.0                 1.0              0.0   \n",
      "2      0.0                     0.0                 1.0              NaN   \n",
      "3      1.0                     1.0                 1.0              1.0   \n",
      "4      0.0                     0.0                 1.0              NaN   \n",
      "\n",
      "   HasServedInMilitary  HasStudentDebt  HomeMortgageOwe  HoursLearning  \\\n",
      "0                  0.0             0.0              NaN           15.0   \n",
      "1                  0.0             1.0              NaN           10.0   \n",
      "2                  0.0             NaN              NaN           25.0   \n",
      "3                  0.0             0.0          40000.0           14.0   \n",
      "4                  0.0             NaN              NaN           10.0   \n",
      "\n",
      "                               ID.x                              ID.y  \\\n",
      "0  02d9465b21e8bd09374b0066fb2d5614  eb78c1c3ac6cd9052aec557065070fbf   \n",
      "1  5bfef9ecb211ec4f518cfc1d2a6f3e0c  21db37adb60cdcafadfa7dca1b13b6b1   \n",
      "2  14f1863afa9c7de488050b82eb3edd96  21ba173828fbe9e27ccebaf4d5166a55   \n",
      "3  91756eb4dc280062a541c25a3d44cfb0  3be37b558f02daae93a6da10f83f0c77   \n",
      "4  aa3f061a1949a90b27bef7411ecd193f  d7c56bbf2c7b62096be9db010e86d96d   \n",
      "\n",
      "    Income  IsEthnicMinority  IsReceiveDisabilitiesBenefits  IsSoftwareDev  \\\n",
      "0      NaN               NaN                            0.0            0.0   \n",
      "1      NaN               0.0                            0.0            0.0   \n",
      "2  13000.0               1.0                            0.0            0.0   \n",
      "3  24000.0               0.0                            0.0            0.0   \n",
      "4      NaN               0.0                            0.0            0.0   \n",
      "\n",
      "   IsUnderEmployed              JobApplyWhen  JobInterestBackEnd  \\\n",
      "0              0.0                       NaN                 NaN   \n",
      "1              NaN     Within 7 to 12 months                 NaN   \n",
      "2              0.0     Within 7 to 12 months                 1.0   \n",
      "3              1.0  Within the next 6 months                 1.0   \n",
      "4              NaN     Within 7 to 12 months                 1.0   \n",
      "\n",
      "   JobInterestDataEngr  JobInterestDataSci  JobInterestDevOps  \\\n",
      "0                  NaN                 NaN                NaN   \n",
      "1                  NaN                 NaN                NaN   \n",
      "2                  NaN                 NaN                1.0   \n",
      "3                  NaN                 NaN                NaN   \n",
      "4                  NaN                 NaN                NaN   \n",
      "\n",
      "   JobInterestFrontEnd  JobInterestFullStack  JobInterestGameDev  \\\n",
      "0                  NaN                   NaN                 NaN   \n",
      "1                  NaN                   1.0                 NaN   \n",
      "2                  1.0                   1.0                 NaN   \n",
      "3                  1.0                   1.0                 NaN   \n",
      "4                  1.0                   1.0                 NaN   \n",
      "\n",
      "   JobInterestInfoSec  JobInterestMobile JobInterestOther  \\\n",
      "0                 NaN                NaN              NaN   \n",
      "1                 NaN                NaN              NaN   \n",
      "2                 NaN                1.0              NaN   \n",
      "3                 NaN                NaN              NaN   \n",
      "4                 1.0                1.0              NaN   \n",
      "\n",
      "   JobInterestProjMngr  JobInterestQAEngr  JobInterestUX  \\\n",
      "0                  NaN                NaN            NaN   \n",
      "1                  NaN                NaN            NaN   \n",
      "2                  NaN                NaN            NaN   \n",
      "3                  NaN                NaN            NaN   \n",
      "4                  NaN                NaN            NaN   \n",
      "\n",
      "                                JobPref  JobRelocateYesNo  \\\n",
      "0               start your own business               NaN   \n",
      "1                  work for a nonprofit               1.0   \n",
      "2       work for a medium-sized company               1.0   \n",
      "3       work for a medium-sized company               NaN   \n",
      "4  work for a multinational corporation               1.0   \n",
      "\n",
      "                                     JobRoleInterest  \\\n",
      "0                                                NaN   \n",
      "1                           Full-Stack Web Developer   \n",
      "2    Front-End Web Developer, Back-End Web Develo...   \n",
      "3    Front-End Web Developer, Full-Stack Web Deve...   \n",
      "4  Full-Stack Web Developer, Information Security...   \n",
      "\n",
      "                         JobWherePref LanguageAtHome  \\\n",
      "0                                 NaN        English   \n",
      "1  in an office with other developers        English   \n",
      "2                       no preference        Spanish   \n",
      "3                           from home     Portuguese   \n",
      "4  in an office with other developers     Portuguese   \n",
      "\n",
      "                     MaritalStatus  MoneyForLearning  MonthsProgramming  \\\n",
      "0  married or domestic partnership             150.0                6.0   \n",
      "1            single, never married              80.0                6.0   \n",
      "2            single, never married            1000.0                5.0   \n",
      "3  married or domestic partnership               0.0                5.0   \n",
      "4            single, never married               0.0               24.0   \n",
      "\n",
      "    NetworkID         Part1EndTime       Part1StartTime         Part2EndTime  \\\n",
      "0  6f1fbc6b2b  2017-03-09 00:36:22  2017-03-09 00:32:59  2017-03-09 00:59:46   \n",
      "1  f8f8be6910  2017-03-09 00:37:07  2017-03-09 00:33:26  2017-03-09 00:38:59   \n",
      "2  2ed189768e  2017-03-09 00:37:58  2017-03-09 00:33:53  2017-03-09 00:40:14   \n",
      "3  dbdc0664d1  2017-03-09 00:40:13  2017-03-09 00:37:45  2017-03-09 00:42:26   \n",
      "4  11b0f2d8a9  2017-03-09 00:42:45  2017-03-09 00:39:44  2017-03-09 00:45:42   \n",
      "\n",
      "        Part2StartTime  PodcastChangeLog  PodcastCodeNewbie  PodcastCodePen  \\\n",
      "0  2017-03-09 00:36:26               NaN                NaN             NaN   \n",
      "1  2017-03-09 00:37:10               NaN                1.0             NaN   \n",
      "2  2017-03-09 00:38:02               1.0                NaN             1.0   \n",
      "3  2017-03-09 00:40:18               NaN                NaN             NaN   \n",
      "4  2017-03-09 00:42:50               NaN                NaN             NaN   \n",
      "\n",
      "   PodcastDevTea  PodcastDotNET  PodcastGiantRobots  PodcastJSAir  \\\n",
      "0            1.0            NaN                 NaN           NaN   \n",
      "1            NaN            NaN                 NaN           NaN   \n",
      "2            NaN            NaN                 NaN           NaN   \n",
      "3            NaN            NaN                 NaN           NaN   \n",
      "4            NaN            NaN                 NaN           NaN   \n",
      "\n",
      "   PodcastJSJabber  PodcastNone PodcastOther  PodcastProgThrowdown  \\\n",
      "0              NaN          NaN          NaN                   NaN   \n",
      "1              NaN          NaN          NaN                   NaN   \n",
      "2              NaN          NaN   Codenewbie                   NaN   \n",
      "3              NaN          NaN          NaN                   NaN   \n",
      "4              NaN          NaN          NaN                   NaN   \n",
      "\n",
      "   PodcastRubyRogues  PodcastSEDaily  PodcastSERadio  PodcastShopTalk  \\\n",
      "0                NaN             NaN             NaN              NaN   \n",
      "1                NaN             NaN             NaN              NaN   \n",
      "2                NaN             NaN             NaN              1.0   \n",
      "3                NaN             NaN             NaN              NaN   \n",
      "4                NaN             NaN             NaN              NaN   \n",
      "\n",
      "   PodcastTalkPython  PodcastTheWebAhead  ResourceCodecademy  \\\n",
      "0                NaN                 NaN                 1.0   \n",
      "1                NaN                 NaN                 1.0   \n",
      "2                NaN                 NaN                 1.0   \n",
      "3                NaN                 NaN                 NaN   \n",
      "4                NaN                 NaN                 NaN   \n",
      "\n",
      "   ResourceCodeWars  ResourceCoursera  ResourceCSS  ResourceEdX  \\\n",
      "0               NaN               NaN          NaN          NaN   \n",
      "1               NaN               NaN          1.0          NaN   \n",
      "2               NaN               NaN          1.0          NaN   \n",
      "3               NaN               NaN          NaN          NaN   \n",
      "4               NaN               NaN          NaN          NaN   \n",
      "\n",
      "   ResourceEgghead  ResourceFCC  ResourceHackerRank  ResourceKA  \\\n",
      "0              NaN          1.0                 NaN         NaN   \n",
      "1              NaN          1.0                 NaN         NaN   \n",
      "2              NaN          1.0                 NaN         NaN   \n",
      "3              1.0          1.0                 NaN         NaN   \n",
      "4              NaN          NaN                 NaN         NaN   \n",
      "\n",
      "   ResourceLynda  ResourceMDN  ResourceOdinProj ResourceOther  \\\n",
      "0            NaN          1.0               NaN           NaN   \n",
      "1            NaN          NaN               NaN           NaN   \n",
      "2            NaN          1.0               NaN           NaN   \n",
      "3            NaN          1.0               NaN           NaN   \n",
      "4            NaN          NaN               NaN           NaN   \n",
      "\n",
      "   ResourcePluralSight  ResourceSkillcrush  ResourceSO  ResourceTreehouse  \\\n",
      "0                  NaN                 NaN         NaN                NaN   \n",
      "1                  NaN                 NaN         1.0                NaN   \n",
      "2                  NaN                 NaN         NaN                NaN   \n",
      "3                  NaN                 NaN         1.0                NaN   \n",
      "4                  NaN                 NaN         1.0                NaN   \n",
      "\n",
      "   ResourceUdacity  ResourceUdemy  ResourceW3S  \\\n",
      "0              NaN            1.0          1.0   \n",
      "1              NaN            1.0          1.0   \n",
      "2              1.0            1.0          NaN   \n",
      "3              NaN            NaN          NaN   \n",
      "4              NaN            NaN          NaN   \n",
      "\n",
      "                              SchoolDegree             SchoolMajor  \\\n",
      "0           some college credit, no degree                     NaN   \n",
      "1           some college credit, no degree                     NaN   \n",
      "2  high school diploma or equivalent (GED)                     NaN   \n",
      "3           some college credit, no degree                     NaN   \n",
      "4                        bachelor's degree  Information Technology   \n",
      "\n",
      "   StudentDebtOwe  YouTubeCodeCourse  YouTubeCodingTrain  YouTubeCodingTut360  \\\n",
      "0             NaN                NaN                 NaN                  NaN   \n",
      "1             NaN                NaN                 NaN                  NaN   \n",
      "2             NaN                NaN                 NaN                  1.0   \n",
      "3             NaN                NaN                 NaN                  NaN   \n",
      "4             NaN                NaN                 NaN                  NaN   \n",
      "\n",
      "   YouTubeComputerphile  YouTubeDerekBanas  YouTubeDevTips  \\\n",
      "0                   NaN                NaN             NaN   \n",
      "1                   NaN                NaN             NaN   \n",
      "2                   NaN                1.0             1.0   \n",
      "3                   NaN                NaN             1.0   \n",
      "4                   NaN                NaN             NaN   \n",
      "\n",
      "   YouTubeEngineeredTruth  YouTubeFCC  YouTubeFunFunFunction  \\\n",
      "0                     NaN         NaN                    NaN   \n",
      "1                     NaN         1.0                    NaN   \n",
      "2                     NaN         NaN                    NaN   \n",
      "3                     NaN         1.0                    1.0   \n",
      "4                     NaN         NaN                    NaN   \n",
      "\n",
      "   YouTubeGoogleDev  YouTubeLearnCode  YouTubeLevelUpTuts  YouTubeMIT  \\\n",
      "0               NaN               NaN                 NaN         NaN   \n",
      "1               NaN               NaN                 NaN         NaN   \n",
      "2               NaN               1.0                 1.0         NaN   \n",
      "3               NaN               NaN                 1.0         NaN   \n",
      "4               NaN               NaN                 NaN         NaN   \n",
      "\n",
      "   YouTubeMozillaHacks YouTubeOther  YouTubeSimplilearn  YouTubeTheNewBoston  \n",
      "0                  NaN          NaN                 NaN                  NaN  \n",
      "1                  NaN          NaN                 NaN                  NaN  \n",
      "2                  NaN          NaN                 NaN                  NaN  \n",
      "3                  NaN          NaN                 NaN                  NaN  \n",
      "4                  NaN          NaN                 NaN                  NaN  \n",
      "Index(['LanguageAtHome', 'MaritalStatus', 'MoneyForLearning',\n",
      "       'MonthsProgramming'],\n",
      "      dtype='object')\n"
     ]
    }
   ],
   "source": [
    "pd.options.display.max_columns = 150\n",
    "print(survey.shape)\n",
    "print(survey.head(5)[:20])\n",
    "print(survey.columns[70:74])"
   ]
  },
  {
   "cell_type": "markdown",
   "metadata": {},
   "source": [
    "## First analysis of dataset\n",
    "\n",
    "In total we have 136 columns and 18175 rows. This implies the participants were asked about 100 questions and 18000 people took part in the questionaire.\n",
    "The website has many courses. We are only interested in a couple of them, as we are trying to establish a learning website on web developement, which is only a part of the given dataset. We should first select the information we need from the total dataset to make working with it more manageable.\n",
    "\n",
    "Contents of the columns:\n",
    "\n",
    "* 0: Age of participant\n",
    "* 1 - 5: Whether or not the participant attended certain coding boot camps or the attendance is recommended\n",
    "* 6: Number of children\n",
    "* 7: population size of the participant\n",
    "* 8-16: Wheter or not a participant attended certain coding events. 1 indicates attendance, NaN indicated non-attendance\n",
    "* 17: Commute time of participant\n",
    "* 18: CountryCitizen\n",
    "* 19: CountryLive\n",
    "* 20-24: Information about part's employment: EmploymentField; EmploymentFieldOther, EmploymentStatus, EmploymentStatusOther, Expected Earnings\n",
    "* 25-44 : Information about the part's living/financial situation: FinanciallySupporting, FirstDevJob, Gender, GenderOther, HasChildren, HasDebt, HasFinancialDependents, HasHighspeedInternet, HasHomeMortgage, HasServedInMilitary, HasStudentDebt, HomeMortgageOwe, HoursLearning, id.x, id.y, Income, IsEthnicMinority, IsReceiveDisabilityBenefits, IsSoftwareDev, IsUnderEmployed, JobApplyWhen\n",
    "* 45- 57: Job field interests: JobInterestBackEnd, JobInterestDataEngr, JobInterestDataSci, JobInterestDevOps, JobInterestFrontEnd, JobInterestFulSteck, JobInterestGameDev, JobInterestInfoSec, JobInterestMobild, JobInterestOther, JobInterestProjMgr, JobInterestQAEngr, JobInterestUX\n",
    "* 57- 69: Information about the participants job preferences\n",
    "* 70, 73: Information about language at home, marital status, money spent on learning\n",
    "\n",
    "\n",
    "\n",
    "\n"
   ]
  },
  {
   "cell_type": "markdown",
   "metadata": {},
   "source": [
    "The reason for using this dataset instead of conducting our own survey is that it's much cheaper and we will probably not get the response of 18000 people unless we spend a lot of money. The dataset is also very robust and stems from a reputable source.\n",
    "\n",
    "The dataset contains answers to a questionaire by FreeCodeAcademy on new sign ups to their site. It contains information about the job interests and education of every participant, as well as on their background at home.\n",
    "This means it is ideal for our purposes, although it contains information on other coding fields, not just on web developement, the field our company provides a learning platform for. \n",
    "\n",
    "The dataset can be downloaded [here](https://raw.githubusercontent.com/freeCodeCamp/2017-new-coder-survey/master/clean-data/2017-fCC-New-Coders-Survey-Data.csv)."
   ]
  },
  {
   "cell_type": "markdown",
   "metadata": {},
   "source": [
    "## Analysis of the job interests of the participants:"
   ]
  },
  {
   "cell_type": "code",
   "execution_count": 4,
   "metadata": {
    "collapsed": false
   },
   "outputs": [
    {
     "data": {
      "text/plain": [
       "Full-Stack Web Developer                                                                                                                                                                                                   11.770595\n",
       "  Front-End Web Developer                                                                                                                                                                                                   6.435927\n",
       "  Data Scientist                                                                                                                                                                                                            2.173913\n",
       "Back-End Web Developer                                                                                                                                                                                                      2.030892\n",
       "  Mobile Developer                                                                                                                                                                                                          1.673341\n",
       "Game Developer                                                                                                                                                                                                              1.630435\n",
       "Information Security                                                                                                                                                                                                        1.315789\n",
       "Full-Stack Web Developer,   Front-End Web Developer                                                                                                                                                                         0.915332\n",
       "  Front-End Web Developer, Full-Stack Web Developer                                                                                                                                                                         0.800915\n",
       "  Product Manager                                                                                                                                                                                                           0.786613\n",
       "Data Engineer                                                                                                                                                                                                               0.758009\n",
       "  User Experience Designer                                                                                                                                                                                                  0.743707\n",
       "  User Experience Designer,   Front-End Web Developer                                                                                                                                                                       0.614989\n",
       "  Front-End Web Developer, Back-End Web Developer, Full-Stack Web Developer                                                                                                                                                 0.557780\n",
       "Back-End Web Developer, Full-Stack Web Developer,   Front-End Web Developer                                                                                                                                                 0.514874\n",
       "  DevOps / SysAdmin                                                                                                                                                                                                         0.514874\n",
       "Back-End Web Developer,   Front-End Web Developer, Full-Stack Web Developer                                                                                                                                                 0.514874\n",
       "Full-Stack Web Developer,   Front-End Web Developer, Back-End Web Developer                                                                                                                                                 0.443364\n",
       "  Front-End Web Developer, Full-Stack Web Developer, Back-End Web Developer                                                                                                                                                 0.429062\n",
       "Full-Stack Web Developer,   Mobile Developer                                                                                                                                                                                0.414760\n",
       "  Front-End Web Developer,   User Experience Designer                                                                                                                                                                       0.414760\n",
       "Back-End Web Developer, Full-Stack Web Developer                                                                                                                                                                            0.386156\n",
       "Full-Stack Web Developer, Back-End Web Developer                                                                                                                                                                            0.371854\n",
       "Back-End Web Developer,   Front-End Web Developer                                                                                                                                                                           0.286041\n",
       "Full-Stack Web Developer, Back-End Web Developer,   Front-End Web Developer                                                                                                                                                 0.271739\n",
       "Data Engineer,   Data Scientist                                                                                                                                                                                             0.271739\n",
       "  Front-End Web Developer,   Mobile Developer                                                                                                                                                                               0.257437\n",
       "Full-Stack Web Developer,   Data Scientist                                                                                                                                                                                  0.243135\n",
       "  Data Scientist, Data Engineer                                                                                                                                                                                             0.228833\n",
       "  Mobile Developer, Game Developer                                                                                                                                                                                          0.228833\n",
       "                                                                                                                                                                                                                             ...    \n",
       "  Quality Assurance Engineer, Full-Stack Web Developer                                                                                                                                                                      0.014302\n",
       "  Front-End Web Developer,   DevOps / SysAdmin, Back-End Web Developer, Data Engineer                                                                                                                                       0.014302\n",
       "Data Engineer, Full-Stack Web Developer,   Mobile Developer                                                                                                                                                                 0.014302\n",
       "  Quality Assurance Engineer,   Mobile Developer, Full-Stack Web Developer, Back-End Web Developer,   Front-End Web Developer                                                                                               0.014302\n",
       "  Quality Assurance Engineer,   Data Scientist,   Front-End Web Developer                                                                                                                                                   0.014302\n",
       "  Mobile Developer,   User Experience Designer, Back-End Web Developer                                                                                                                                                      0.014302\n",
       "Game Developer,   Front-End Web Developer, Back-End Web Developer, Full-Stack Web Developer,   Mobile Developer, Information Security,   Data Scientist                                                                     0.014302\n",
       "Back-End Web Developer, Game Developer,   Front-End Web Developer                                                                                                                                                           0.014302\n",
       "  Mobile Developer,   User Experience Designer, Game Developer, Full-Stack Web Developer, Information Security                                                                                                              0.014302\n",
       "  Mobile Developer, Data Engineer,   Data Scientist, Full-Stack Web Developer                                                                                                                                               0.014302\n",
       "  Mobile Developer,   User Experience Designer,   Front-End Web Developer, Full-Stack Web Developer,   DevOps / SysAdmin, Back-End Web Developer                                                                            0.014302\n",
       "  User Experience Designer,   Product Manager,   Front-End Web Developer, Back-End Web Developer, Full-Stack Web Developer                                                                                                  0.014302\n",
       "Back-End Web Developer,   Front-End Web Developer, Data Engineer                                                                                                                                                            0.014302\n",
       "Back-End Web Developer,   Front-End Web Developer, Information Security, Full-Stack Web Developer, Game Developer                                                                                                           0.014302\n",
       "Full-Stack Web Developer,   Front-End Web Developer, Information Security,   Product Manager, Back-End Web Developer,   Mobile Developer,   User Experience Designer                                                        0.014302\n",
       "Information Security,   DevOps / SysAdmin,   Data Scientist                                                                                                                                                                 0.014302\n",
       "  Product Manager,   Quality Assurance Engineer,   Front-End Web Developer,   Mobile Developer, Data Engineer, Information Security, Back-End Web Developer, Full-Stack Web Developer                                       0.014302\n",
       "  Mobile Developer,   Front-End Web Developer, Full-Stack Web Developer,   Product Manager                                                                                                                                  0.014302\n",
       "Back-End Web Developer, Data Engineer,   Quality Assurance Engineer,   Product Manager,   Data Scientist, Information Security, Full-Stack Web Developer,   Front-End Web Developer,   User Experience Designer             0.014302\n",
       "Teacher. Teaching students to code.                                                                                                                                                                                         0.014302\n",
       "Data Engineer, Back-End Web Developer,   Data Scientist,   DevOps / SysAdmin, Full-Stack Web Developer                                                                                                                      0.014302\n",
       "  Mobile Developer, Full-Stack Web Developer, Game Developer,   DevOps / SysAdmin, Data Engineer,   Front-End Web Developer, Information Security,   Data Scientist, Back-End Web Developer                                 0.014302\n",
       "Back-End Web Developer, Data Engineer,   Mobile Developer,   DevOps / SysAdmin,   User Experience Designer,   Front-End Web Developer                                                                                       0.014302\n",
       "Full-Stack Web Developer, Back-End Web Developer, Data Engineer,   Quality Assurance Engineer,   Data Scientist                                                                                                             0.014302\n",
       "Information Security, Full-Stack Web Developer,   DevOps / SysAdmin,   Mobile Developer                                                                                                                                     0.014302\n",
       "Information Security, Game Developer, Data Engineer,   DevOps / SysAdmin,   Mobile Developer, Full-Stack Web Developer, Back-End Web Developer,   Front-End Web Developer,   User Experience Designer,   Data Scientist     0.014302\n",
       "  Quality Assurance Engineer,   Front-End Web Developer,   Product Manager,   User Experience Designer                                                                                                                      0.014302\n",
       "Information Security, Back-End Web Developer,   Front-End Web Developer,   DevOps / SysAdmin, Data Engineer                                                                                                                 0.014302\n",
       "  Front-End Web Developer, Full-Stack Web Developer, Game Developer, Data Engineer,   Mobile Developer,   Product Manager                                                                                                   0.014302\n",
       "  Front-End Web Developer,   Product Manager,   Mobile Developer,   Data Scientist, Data Engineer,   User Experience Designer                                                                                               0.014302\n",
       "Name: JobRoleInterest, Length: 3213, dtype: float64"
      ]
     },
     "execution_count": 4,
     "metadata": {},
     "output_type": "execute_result"
    }
   ],
   "source": [
    "freq_tb_ji = survey.JobRoleInterest.value_counts(normalize = True)*100\n",
    "freq_tb_ji"
   ]
  },
  {
   "cell_type": "markdown",
   "metadata": {},
   "source": [
    "Finding out how many people are interested in multiple subjects:"
   ]
  },
  {
   "cell_type": "code",
   "execution_count": 5,
   "metadata": {
    "collapsed": false
   },
   "outputs": [
    {
     "data": {
      "text/plain": [
       "<matplotlib.text.Text at 0x7f05c90b79e8>"
      ]
     },
     "execution_count": 5,
     "metadata": {},
     "output_type": "execute_result"
    },
    {
     "data": {
      "image/png": "[encoded data removed]",
      "text/plain": [
       "<matplotlib.figure.Figure at 0x7f0614aa5fd0>"
      ]
     },
     "metadata": {},
     "output_type": "display_data"
    }
   ],
   "source": [
    "jobroleinterests = survey.JobRoleInterest\n",
    "#Droping null values, so we can split the strings without provocing errors\n",
    "jobroleinterests = jobroleinterests.dropna()\n",
    "\n",
    "single_interests = jobroleinterests.str.split(',').apply(lambda x: len(x) == 1).value_counts(normalize = True)*100\n",
    "plt.figure(figsize = (6,6))\n",
    "single_interests.plot.pie(labels = ['multiple interests', 'single interest'], autopct = '%.2f%%')\n",
    "plt.ylabel('')"
   ]
  },
  {
   "cell_type": "markdown",
   "metadata": {},
   "source": [
    "We can see that a majority of people is interested in more than one subject."
   ]
  },
  {
   "cell_type": "markdown",
   "metadata": {},
   "source": [
    "So we see, that people can be interested in multiple job roles. But if they are interested, they are listed under a new category, that includes the names of all their interests instead of being listed multiple times in different categories.\n",
    "If most people were interested in multiple job roles, the sample would no longer be representative. We might have to find a better way to categorize the job role interests. But there are columns listing them separately.\n",
    "Due to this unfortunate choice in categorization, it is hard to tell, but it looks like a lot of people are interested in web and mobile developement."
   ]
  },
  {
   "cell_type": "code",
   "execution_count": 6,
   "metadata": {
    "collapsed": false
   },
   "outputs": [
    {
     "name": "stdout",
     "output_type": "stream",
     "text": [
      "86.0% of all participants are in our demographic\n"
     ]
    }
   ],
   "source": [
    "#Finding out what part of the population in this survey are part of our demographic\n",
    "mobile_or_web = jobroleinterests.str.contains('Web Developer|Mobile Developer')\n",
    "print(str(round(mobile_or_web.sum()/jobroleinterests.shape[0]*100)) + '% of all participants are in our demographic')"
   ]
  },
  {
   "cell_type": "code",
   "execution_count": 7,
   "metadata": {
    "collapsed": false,
    "scrolled": false
   },
   "outputs": [
    {
     "data": {
      "image/png": "[encoded data removed]",
      "text/plain": [
       "<matplotlib.figure.Figure at 0x7f05c8e12860>"
      ]
     },
     "metadata": {},
     "output_type": "display_data"
    }
   ],
   "source": [
    "mobile_or_web.value_counts(normalize = True).plot.bar(title = 'Participants Interested in our Fields')\n",
    "plt.xticks([0,1], ['Interested in Web\\n or Mobile Dev', 'Other Interests'], rotation = 0)\n",
    "plt.show()"
   ]
  },
  {
   "cell_type": "markdown",
   "metadata": {},
   "source": [
    "The overwhelming majority of participants is in our demographic. So this dataset can be used effectively."
   ]
  },
  {
   "cell_type": "code",
   "execution_count": 8,
   "metadata": {
    "collapsed": false
   },
   "outputs": [
    {
     "name": "stdout",
     "output_type": "stream",
     "text": [
      "(18175, 136)\n",
      "(6992, 136)\n"
     ]
    }
   ],
   "source": [
    "#Dropping all rows with NULL values in the JobRoleInterest column\n",
    "print(survey.shape)\n",
    "survey_no_na = survey.dropna(subset = ['JobRoleInterest'], axis = 0).copy()\n",
    "print(survey_no_na.shape)"
   ]
  },
  {
   "cell_type": "code",
   "execution_count": 9,
   "metadata": {
    "collapsed": false
   },
   "outputs": [
    {
     "name": "stdout",
     "output_type": "stream",
     "text": [
      "United States of America    3125\n",
      "India                        528\n",
      "United Kingdom               315\n",
      "Canada                       260\n",
      "Poland                       131\n",
      "Name: CountryLive, dtype: int64\n"
     ]
    },
    {
     "data": {
      "text/plain": [
       "United States of America    45.700497\n",
       "India                        7.721556\n",
       "United Kingdom               4.606610\n",
       "Canada                       3.802281\n",
       "Poland                       1.915765\n",
       "Name: CountryLive, dtype: float64"
      ]
     },
     "execution_count": 9,
     "metadata": {},
     "output_type": "execute_result"
    }
   ],
   "source": [
    "#Frequency tables for the countries\n",
    "print(survey_no_na.CountryLive.value_counts().head())\n",
    "survey_no_na.CountryLive.value_counts(normalize = True).head()*100"
   ]
  },
  {
   "cell_type": "markdown",
   "metadata": {},
   "source": [
    "The two most promising markets seem to be the countries with a large number of English speakers (USA, India, UK, Canada). Due to the fact that we are building a monitized website, while the data we are using is from the userbase of a free website, we should look at the ammount people are willing to spend on learning in each country, to see which countries are viable."
   ]
  },
  {
   "cell_type": "code",
   "execution_count": 10,
   "metadata": {
    "collapsed": false
   },
   "outputs": [],
   "source": [
    "# exchanging all 0 values for months programming to 1 so we don't divide by 0\n",
    "survey_no_na.loc[survey_no_na.MonthsProgramming == 0, 'MonthsProgramming'] = 1\n",
    "\n",
    "survey_no_na['money_per_month'] = survey_no_na.MoneyForLearning/survey_no_na.MonthsProgramming"
   ]
  },
  {
   "cell_type": "code",
   "execution_count": 11,
   "metadata": {
    "collapsed": false
   },
   "outputs": [
    {
     "data": {
      "text/plain": [
       "CountryLive\n",
       "United States of America    227.997996\n",
       "India                       135.100982\n",
       "United Kingdom               45.534443\n",
       "Canada                      113.510961\n",
       "Name: money_per_month, dtype: float64"
      ]
     },
     "execution_count": 11,
     "metadata": {},
     "output_type": "execute_result"
    }
   ],
   "source": [
    "survey_country = survey_no_na.groupby('CountryLive')\n",
    "survey_country.money_per_month.apply(np.mean)[['United States of America', 'India', 'United Kingdom', 'Canada']]"
   ]
  },
  {
   "cell_type": "markdown",
   "metadata": {},
   "source": [
    "It seems like the students from the USA spend the most money, whereas the UK sticks out with the least spent per month. India, which has the second most students also spends the second most money per month on learning. So the two best markets to advertise judging by the mean to would be the USA and India. But this statement is only based on the mean, which is currently the only thing we know about the data. We should investigate the data further. But in general the data is plausible, since in the UK and Canada education is free and people will be unwilling to pay for services their government provides free of charge."
   ]
  },
  {
   "cell_type": "code",
   "execution_count": 12,
   "metadata": {
    "collapsed": false
   },
   "outputs": [],
   "source": [
    "countries = ['United States of America', 'India', 'United Kingdom', 'Canada']\n",
    "survey_no_na.dropna(subset = ['CountryLive'], inplace = True)\n",
    "survey_top_4 = survey_no_na.loc[survey_no_na.CountryLive.str.\n",
    "                                contains('''United States of America|India|United Kingdom|Canada''')].copy()"
   ]
  },
  {
   "cell_type": "code",
   "execution_count": 13,
   "metadata": {
    "collapsed": false
   },
   "outputs": [
    {
     "name": "stderr",
     "output_type": "stream",
     "text": [
      "/dataquest/system/env/python3/lib/python3.4/site-packages/seaborn/categorical.py:454: FutureWarning:\n",
      "\n",
      "remove_na is deprecated and is a private function. Do not use.\n",
      "\n"
     ]
    },
    {
     "data": {
      "image/png": "[encoded data removed]",
      "text/plain": [
       "<matplotlib.figure.Figure at 0x7f05c905e978>"
      ]
     },
     "metadata": {},
     "output_type": "display_data"
    }
   ],
   "source": [
    "plt.figure(figsize = (10,5))\n",
    "sns.boxplot(y = 'money_per_month', x = 'CountryLive', data = survey_top_4)\n",
    "plt.title('Money Per Month Per Country (USD)', fontsize = 16)\n",
    "plt.ylabel('Money Per Month (USD)', fontsize = 14)\n",
    "plt.xlabel('Country', fontsize = 14)\n",
    "plt.xticks([0,1,2,3], ['US', 'India', 'UK', 'CAN'], fontsize = 13)\n",
    "plt.show()"
   ]
  },
  {
   "cell_type": "markdown",
   "metadata": {},
   "source": [
    "This plot doesn't tell us much about the data, except that someone apparently put their terrible american college experience into the data. There are two outliers when we look at the data from the US participants. These are 80000 and 50000 usd per month. A likely cause of this unreasonable data is the phrasing of the questions. It asks how much people have spent on education and how long they have been coding. If their eduction is not in coding, they will have answered correctly and still given us unreasonable data. This is likely the cause of all datapoints of above 5000 USD per month. The way the questions are phrased in the survey makes them unsuited to ask our question. But if we want at least usable data we should exclude all datapoints above 2000 USD per month or even lower, since college eductions in almost all countries except the US cost way less than that amount."
   ]
  },
  {
   "cell_type": "markdown",
   "metadata": {},
   "source": [
    "We will start by eliminating the extreme outliers."
   ]
  },
  {
   "cell_type": "code",
   "execution_count": 14,
   "metadata": {
    "collapsed": false
   },
   "outputs": [
    {
     "name": "stdout",
     "output_type": "stream",
     "text": [
      "(4228, 137)\n",
      "(3913, 137)\n"
     ]
    }
   ],
   "source": [
    "print(survey_top_4.shape)\n",
    "survey_top_4 = survey_top_4.loc[survey_top_4.money_per_month < 20000]\n",
    "print(survey_top_4.shape)"
   ]
  },
  {
   "cell_type": "markdown",
   "metadata": {},
   "source": [
    "It seems we had to exclude quite a lot of participants"
   ]
  },
  {
   "cell_type": "markdown",
   "metadata": {},
   "source": [
    "Recalculating the mean money spent per month"
   ]
  },
  {
   "cell_type": "code",
   "execution_count": 15,
   "metadata": {
    "collapsed": false
   },
   "outputs": [
    {
     "data": {
      "text/plain": [
       "CountryLive\n",
       "United States of America    183.800110\n",
       "India                       135.100982\n",
       "Canada                      113.510961\n",
       "United Kingdom               45.534443\n",
       "Name: money_per_month, dtype: float64"
      ]
     },
     "execution_count": 15,
     "metadata": {},
     "output_type": "execute_result"
    }
   ],
   "source": [
    "survey_top_4.groupby('CountryLive').mean()['money_per_month'].sort_values(ascending = False)"
   ]
  },
  {
   "cell_type": "code",
   "execution_count": 16,
   "metadata": {
    "collapsed": false,
    "scrolled": true
   },
   "outputs": [
    {
     "name": "stderr",
     "output_type": "stream",
     "text": [
      "/dataquest/system/env/python3/lib/python3.4/site-packages/seaborn/categorical.py:454: FutureWarning:\n",
      "\n",
      "remove_na is deprecated and is a private function. Do not use.\n",
      "\n"
     ]
    },
    {
     "data": {
      "text/plain": [
       "<matplotlib.axes._subplots.AxesSubplot at 0x7f05c8ff3ba8>"
      ]
     },
     "execution_count": 16,
     "metadata": {},
     "output_type": "execute_result"
    },
    {
     "data": {
      "image/png": "[encoded data removed]",
      "text/plain": [
       "<matplotlib.figure.Figure at 0x7f05c8e0e0f0>"
      ]
     },
     "metadata": {},
     "output_type": "display_data"
    }
   ],
   "source": [
    "sns.boxplot(x = 'CountryLive', y = 'money_per_month', data = survey_top_4)"
   ]
  },
  {
   "cell_type": "markdown",
   "metadata": {},
   "source": [
    "There are still seveal outliers. The US population still has a lot of people still reporting over 5000 USD per month in spending. In india there are several participants who particularly stick out. Apparently coding bootcamps are very expensive, so we need to check wethere these participants took part in any of those."
   ]
  },
  {
   "cell_type": "code",
   "execution_count": 17,
   "metadata": {
    "collapsed": false
   },
   "outputs": [],
   "source": [
    "survey_top_4.loc[(survey_top_4.money_per_month > 3000) & (survey_top_4.CountryLive == 'India')]\n",
    "bootcamp_cols = survey_top_4.columns[survey_top_4.columns.str.contains('Bootcamp', flags = re.I)].tolist()"
   ]
  },
  {
   "cell_type": "code",
   "execution_count": 18,
   "metadata": {
    "collapsed": false,
    "scrolled": true
   },
   "outputs": [
    {
     "name": "stdout",
     "output_type": "stream",
     "text": [
      "       AttendedBootcamp  BootcampFinish  BootcampLoanYesNo BootcampName  \\\n",
      "1728                0.0             NaN                NaN          NaN   \n",
      "1755                0.0             NaN                NaN          NaN   \n",
      "7989                0.0             NaN                NaN          NaN   \n",
      "8126                0.0             NaN                NaN          NaN   \n",
      "13398               0.0             NaN                NaN          NaN   \n",
      "15587               0.0             NaN                NaN          NaN   \n",
      "\n",
      "       BootcampRecommend  CodeEventWkdBootcamps  \n",
      "1728                 NaN                    NaN  \n",
      "1755                 NaN                    NaN  \n",
      "7989                 NaN                    NaN  \n",
      "8126                 NaN                    NaN  \n",
      "13398                NaN                    NaN  \n",
      "15587                NaN                    NaN  \n"
     ]
    }
   ],
   "source": [
    "print(survey_top_4.loc[(survey_top_4.money_per_month > 3000) &\n",
    "                       (survey_top_4.CountryLive == 'India')\n",
    "                       ,bootcamp_cols])"
   ]
  },
  {
   "cell_type": "markdown",
   "metadata": {},
   "source": [
    "So none of the participants from india who spent over 3000 USD on education reported that they attended any coding bootcamps. The solution notebook recommended removing all Indians who spent over 2500 USD on education."
   ]
  },
  {
   "cell_type": "code",
   "execution_count": 25,
   "metadata": {
    "collapsed": false
   },
   "outputs": [
    {
     "name": "stdout",
     "output_type": "stream",
     "text": [
      "(3907, 137)\n",
      "(3907, 137)\n"
     ]
    }
   ],
   "source": [
    "print(survey_top_4.shape)\n",
    "survey_top_4 = survey_top_4.drop(index = survey_top_4.loc[\n",
    "    (survey_top_4.money_per_month > 2500)\n",
    "                       & (survey_top_4.CountryLive == 'India')].index)\n",
    "print(survey_top_4.shape)"
   ]
  },
  {
   "cell_type": "markdown",
   "metadata": {},
   "source": [
    "The other outliers are those from the US participants. Up until 6000 USD per month the outliers are grouped together, but above they start to separate, so we will look at those."
   ]
  },
  {
   "cell_type": "code",
   "execution_count": 27,
   "metadata": {
    "collapsed": false
   },
   "outputs": [
    {
     "name": "stdout",
     "output_type": "stream",
     "text": [
      "       AttendedBootcamp  BootcampFinish  BootcampLoanYesNo  \\\n",
      "718                 1.0             0.0                0.0   \n",
      "1222                1.0             0.0                0.0   \n",
      "3184                1.0             1.0                0.0   \n",
      "3930                0.0             NaN                NaN   \n",
      "6805                1.0             1.0                1.0   \n",
      "7198                0.0             NaN                NaN   \n",
      "7505                1.0             0.0                1.0   \n",
      "9778                1.0             0.0                1.0   \n",
      "16650               0.0             NaN                NaN   \n",
      "16997               0.0             NaN                NaN   \n",
      "17231               0.0             NaN                NaN   \n",
      "\n",
      "                                 BootcampName  BootcampRecommend  \\\n",
      "718    The Coding Boot Camp at UCLA Extension                1.0   \n",
      "1222                            The Iron Yard                1.0   \n",
      "3184                           We Can Code IT                1.0   \n",
      "3930                                      NaN                NaN   \n",
      "6805                                 Sabio.la                0.0   \n",
      "7198                                      NaN                NaN   \n",
      "7505                                   Codeup                0.0   \n",
      "9778                             Grand Circus                1.0   \n",
      "16650                                     NaN                NaN   \n",
      "16997                                     NaN                NaN   \n",
      "17231                                     NaN                NaN   \n",
      "\n",
      "       CodeEventWkdBootcamps  \n",
      "718                      NaN  \n",
      "1222                     NaN  \n",
      "3184                     NaN  \n",
      "3930                     NaN  \n",
      "6805                     NaN  \n",
      "7198                     NaN  \n",
      "7505                     NaN  \n",
      "9778                     NaN  \n",
      "16650                    NaN  \n",
      "16997                    NaN  \n",
      "17231                    NaN  \n"
     ]
    }
   ],
   "source": [
    "print(survey_top_4.loc\n",
    "    [(survey_top_4.money_per_month > 6000) &\n",
    "      (survey_top_4.CountryLive == 'United States of America'),\n",
    "     bootcamp_cols])"
   ]
  },
  {
   "cell_type": "markdown",
   "metadata": {},
   "source": [
    "So most of the Americans that have spent so much on education have also attended bootcamps. This means that probably this information seems reliable and we can keep the data points in the analysis"
   ]
  },
  {
   "cell_type": "code",
   "execution_count": 32,
   "metadata": {
    "collapsed": false
   },
   "outputs": [
    {
     "data": {
      "text/plain": [
       "CountryLive\n",
       "United States of America    183.800110\n",
       "Canada                      113.510961\n",
       "India                        65.758763\n",
       "United Kingdom               45.534443\n",
       "Name: money_per_month, dtype: float64"
      ]
     },
     "execution_count": 32,
     "metadata": {},
     "output_type": "execute_result"
    }
   ],
   "source": [
    "survey_top_4.groupby('CountryLive').mean().money_per_month.sort_values(ascending = False)"
   ]
  },
  {
   "cell_type": "markdown",
   "metadata": {},
   "source": [
    "According to these results, The two best markets for advertising would be those of the US and Canada.\n",
    "Though it should be said, that there are more potential customers in India, since more of the participants in the original survey were from India. So advertising there might not be such a bad idea. So more analysis is needed."
   ]
  },
  {
   "cell_type": "code",
   "execution_count": 61,
   "metadata": {
    "collapsed": false
   },
   "outputs": [
    {
     "data": {
      "image/png": "[encoded data removed]",
      "text/plain": [
       "<matplotlib.figure.Figure at 0x7f05c191d9e8>"
      ]
     },
     "metadata": {},
     "output_type": "display_data"
    }
   ],
   "source": [
    "data_countries = survey_top_4.groupby('CountryLive')\n",
    "data_countries.get_group('India').money_per_month.plot.kde(\n",
    "    title = 'Money Spent on Education Per Month by Indians',\n",
    "    xlim = (0,200))\n",
    "plt.axvline(59, color = 'k', label = 'Our Price')\n",
    "plt.legend()\n",
    "plt.show()"
   ]
  },
  {
   "cell_type": "markdown",
   "metadata": {},
   "source": [
    "We can see that only a small group is willing to pay as much money as we would be asking in India"
   ]
  },
  {
   "cell_type": "code",
   "execution_count": 60,
   "metadata": {
    "collapsed": false
   },
   "outputs": [
    {
     "data": {
      "image/png": "[encoded data removed]",
      "text/plain": [
       "<matplotlib.figure.Figure at 0x7f05c128c160>"
      ]
     },
     "metadata": {},
     "output_type": "display_data"
    }
   ],
   "source": [
    "data_countries.get_group('Canada').money_per_month.plot.kde(xlim = (0,500),\n",
    "    title = 'Money Spent on Education Per Month by Canadians')\n",
    "plt.axvline(59, color = 'k', label = 'Our Price')\n",
    "plt.legend()\n",
    "plt.show()"
   ]
  },
  {
   "cell_type": "markdown",
   "metadata": {},
   "source": [
    "In general the Canadians also seem very unhappy with spending the ammount we would ask or more on educatin."
   ]
  },
  {
   "cell_type": "markdown",
   "metadata": {},
   "source": [
    "we could also look at the z_values for our price for both of the countries, to find out how willing to pay people are"
   ]
  },
  {
   "cell_type": "code",
   "execution_count": 63,
   "metadata": {
    "collapsed": true
   },
   "outputs": [],
   "source": [
    "def z_val(val, arr):\n",
    "    return (val - np.mean(arr)) / np.std(arr)"
   ]
  },
  {
   "cell_type": "code",
   "execution_count": 69,
   "metadata": {
    "collapsed": false
   },
   "outputs": [
    {
     "name": "stdout",
     "output_type": "stream",
     "text": [
      "Z-value in India: -0.029\n",
      "Z-value in Canada: -0.1239\n"
     ]
    }
   ],
   "source": [
    "print('Z-value in India: '+\n",
    "      str(round(z_val(59, data_countries.get_group('India').money_per_month),4)))\n",
    "print('Z-value in Canada: '+\n",
    "      str(round(z_val(59, data_countries.get_group('Canada').money_per_month),4)))"
   ]
  },
  {
   "cell_type": "markdown",
   "metadata": {},
   "source": [
    "Looking at the different z-values, we can see that in canada our price has a lower z-value. This means, that people are more likely to pay this amount of money."
   ]
  },
  {
   "cell_type": "markdown",
   "metadata": {},
   "source": [
    "To put this data into perspective, we should look at what percentage of potential customers actually comes from what country."
   ]
  },
  {
   "cell_type": "code",
   "execution_count": 70,
   "metadata": {
    "collapsed": false
   },
   "outputs": [
    {
     "data": {
      "text/plain": [
       "United States of America    75.019196\n",
       "India                       11.696954\n",
       "United Kingdom               7.141029\n",
       "Canada                       6.142821\n",
       "Name: CountryLive, dtype: float64"
      ]
     },
     "execution_count": 70,
     "metadata": {},
     "output_type": "execute_result"
    }
   ],
   "source": [
    "survey_top_4.CountryLive.value_counts(normalize = True)*100"
   ]
  },
  {
   "cell_type": "markdown",
   "metadata": {},
   "source": [
    "We can see that a large majority of our potential user base comes from the US. This in addition to the fact that Americans are the largest spenders on average implies the idea, that a large majority of the advertising budget should be spent on the US market. \n",
    "It might be a good ides just to advertise in the US at first and explore expansion into later markets later on. The US is ideal for this sort of monitized education, since they pay horrendous sums of money for their college education and our service will seem like a bargain.\n",
    "If there was a marketing team in the company, their descision would be more educated on these matters."
   ]
  },
  {
   "cell_type": "markdown",
   "metadata": {},
   "source": [
    "## Conclusion\n",
    "\n",
    "In this project, data from a survey conducted by the website FreeCodingAcademy was analyzed with the intent of being able to make well-founded marketing descisions in a new education platform focused on Web and Mobile developement. \n",
    "The results showed that in this case the main focus of the advertising campaign should be the US. As a second market, Canada might be interesting, but this is not clear, since there are a lot less potential users in canada and they are willing to spend less on education.\n"
   ]
  }
 ],
 "metadata": {
  "kernelspec": {
   "display_name": "Python 3",
   "language": "python",
   "name": "python3"
  },
  "language_info": {
   "codemirror_mode": {
    "name": "ipython",
    "version": 3
   },
   "file_extension": ".py",
   "mimetype": "text/x-python",
   "name": "python",
   "nbconvert_exporter": "python",
   "pygments_lexer": "ipython3",
   "version": "3.4.3"
  }
 },
 "nbformat": 4,
 "nbformat_minor": 2
}
